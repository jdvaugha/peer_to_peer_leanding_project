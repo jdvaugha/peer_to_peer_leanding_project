{
 "cells": [
  {
   "cell_type": "raw",
   "metadata": {},
   "source": [
    "---\n",
    "title: Part 2 - Marketplace Lending Project Overview and Data Discovery\n",
    "authors:\n",
    "- John Vaughan\n",
    "tags:\n",
    "- Marketplace Lending\n",
    "- Machine Learning\n",
    "- Sklearn\n",
    "- Time Simulation\n",
    "created_at: 2019-02-18\n",
    "updated_at: 2019-02-18\n",
    "tldr: Marketplace Lending Project Building The Machine Learning Model\n",
    "---"
   ]
  },
  {
   "cell_type": "markdown",
   "metadata": {},
   "source": [
    "*Project Goal: Can machine learning produce higher returns while investing in Marketplace loans.*\n",
    "\n",
    "**Marketplace Lending Project: Part 1 -  Overview and Data Discovery**\n",
    "\n",
    " - Marketplace Lending landscape \n",
    " - Data Discovery\n",
    " - Data Cleaning\n",
    " - Featured Engineering\n",
    " - Exploratory Data Analysis (EDA)\n",
    " - EDA: Conclusion\n",
    "\n",
    "**Marketplace Lending Project: Part 2 - Building The Machine Learning Model**\n",
    "\n",
    " - Data prepocessing\n",
    " - Dealing with an imbalanced dataset  \n",
    " - Building the model\n",
    " - Evaluating the model\n",
    " - Month by month model training and prediction\n",
    " - Month by month model evaluating\n",
    " \n",
    "**Marketplace Lending Project: Part 3 - Time Simulation**\n",
    "\n",
    "- Coming soon\n",
    "\n",
    "**Marketplace Lending Project: Part 4 - Proeject Review and Whats Next**\n",
    "\n",
    "- Coming soon\n",
    " "
   ]
  },
  {
   "cell_type": "markdown",
   "metadata": {},
   "source": [
    "Load cleaned data from saved HDF5 file"
   ]
  },
  {
   "cell_type": "code",
   "execution_count": 2,
   "metadata": {},
   "outputs": [],
   "source": [
    "#Load in the cleaned Data\n",
    "import pandas as pd\n",
    "import numpy as np\n",
    "model_df = pd.read_hdf('model_df.h5', key='df')"
   ]
  },
  {
   "cell_type": "markdown",
   "metadata": {},
   "source": [
    "### Data prepocessing:"
   ]
  },
  {
   "cell_type": "markdown",
   "metadata": {},
   "source": [
    "Data preprocessing and cleaning takes time but is arguably the most important piece. If done incorrectly, it could have significant ramifications on model results. Preprocessing is preparing the data for the algorithms. This is done in several steps.\n",
    "\n",
    "**Updating Variables:** Since Machine Learning models cannot handle categorical data, categories need to be converted into binary dummy variables. For example, grades A, B, and C would translate to columns grade_A, grade_B, and grade_C. \n",
    "\n",
    "**Removing data:** Columns that either contain ancillary information or not be present at time of investment need to be removed. To preserve the data, converting loan ID to the index allows the datasets to be merged after running the ML model. "
   ]
  },
  {
   "cell_type": "code",
   "execution_count": 2,
   "metadata": {},
   "outputs": [],
   "source": [
    "lending_club_data = model_df\n",
    "\n",
    "todummy_list = ['sub_grade', 'grade', 'purpose', 'home_ownership', 'disbursement_method']\n",
    "\n",
    "\n",
    "def dummy_df(lending_club_data, todummy_list):\n",
    "        for x in todummy_list:\n",
    "            dummies = pd.get_dummies(lending_club_data[x], prefix=x, dummy_na=False)\n",
    "            lending_club_data = lending_club_data.drop(x, 1)\n",
    "            lending_club_data = pd.concat([lending_club_data, dummies], axis=1)\n",
    "        return lending_club_data\n",
    "\n",
    "lending_club_data = dummy_df(lending_club_data, todummy_list) #Create Dummy Variables:\n",
    "\n",
    "lending_club_data = lending_club_data.set_index('id') #Set index to Loan ID\n",
    "\n",
    "columns_to_drop = ['issue_d'] \n",
    "\n",
    "lending_club_data = lending_club_data.drop(columns_to_drop, 1)#Drop issue date\n",
    "\n",
    "lending_club_data = lending_club_data.dropna(subset=['loan_status']) #drop na from loan status"
   ]
  },
  {
   "cell_type": "markdown",
   "metadata": {},
   "source": [
    "**Imputing missing Variables:** The Lending Club data has many columns that contain missing values. ML estimators cannot compute missing values as models assume each value is numeric and holds value. To correct for this, Sklearn imputer will fill missing values by inferring value based on present column data. \n"
   ]
  },
  {
   "cell_type": "code",
   "execution_count": 3,
   "metadata": {},
   "outputs": [
    {
     "name": "stderr",
     "output_type": "stream",
     "text": [
      "/usr/local/anaconda3/lib/python3.7/site-packages/sklearn/utils/deprecation.py:58: DeprecationWarning: Class Imputer is deprecated; Imputer was deprecated in version 0.20 and will be removed in 0.22. Import impute.SimpleImputer from sklearn instead.\n",
      "  warnings.warn(msg, category=DeprecationWarning)\n"
     ]
    }
   ],
   "source": [
    "# imputer\n",
    "from sklearn.preprocessing import Imputer\n",
    "imp = Imputer(missing_values='NaN', strategy='median', axis=1)\n",
    "\n",
    "imp.fit(lending_club_data)\n",
    "lending_club_data = pd.DataFrame(data=imp.transform(lending_club_data),\n",
    "                                     columns=lending_club_data.columns)"
   ]
  },
  {
   "cell_type": "markdown",
   "metadata": {},
   "source": [
    "### Dealing with an imbalanced dataset  "
   ]
  },
  {
   "cell_type": "code",
   "execution_count": 4,
   "metadata": {},
   "outputs": [],
   "source": [
    "import altair as alt"
   ]
  },
  {
   "cell_type": "code",
   "execution_count": 5,
   "metadata": {},
   "outputs": [
    {
     "data": {
      "application/vnd.vegalite.v2+json": {
       "$schema": "https://vega.github.io/schema/vega-lite/v2.6.0.json",
       "config": {
        "view": {
         "height": 300,
         "width": 400
        }
       },
       "data": {
        "name": "data-2e1482c2203a1ac1fb36d1a5c7b1e822"
       },
       "datasets": {
        "data-2e1482c2203a1ac1fb36d1a5c7b1e822": [
         {
          "loan_amnt": 279651,
          "loan_status": "Defaulted"
         },
         {
          "loan_amnt": 970389,
          "loan_status": "Fully Paid"
         }
        ]
       },
       "encoding": {
        "color": {
         "field": "loan_status",
         "type": "nominal"
        },
        "tooltip": [
         {
          "field": "loan_status",
          "type": "nominal"
         },
         {
          "field": "loan_amnt",
          "type": "quantitative"
         }
        ],
        "x": {
         "axis": {
          "title": "Count of Matured Loans"
         },
         "field": "loan_amnt",
         "type": "quantitative"
        },
        "y": {
         "axis": {
          "title": ""
         },
         "field": "loan_status",
         "type": "nominal"
        }
       },
       "height": 100,
       "mark": "bar",
       "title": "Imbalanced dataset - Default vs non Defaults",
       "width": 1000
      },
      "image/png": "[encoded data removed]",
      "text/plain": [
       "<VegaLite 2 object>\n",
       "\n",
       "If you see this message, it means the renderer has not been properly enabled\n",
       "for the frontend that you are using. For more information, see\n",
       "https://altair-viz.github.io/user_guide/troubleshooting.html\n"
      ]
     },
     "execution_count": 5,
     "metadata": {},
     "output_type": "execute_result"
    }
   ],
   "source": [
    "chart_blance_data = lending_club_data.groupby(['loan_status'])['loan_amnt'].count().reset_index()\n",
    "\n",
    "map_default_status = {0:'Defaulted', 1:'Fully Paid'}\n",
    "\n",
    "chart_blance_data['loan_status'] = chart_blance_data['loan_status'].map(map_default_status)\n",
    "\n",
    "alt.Chart(chart_blance_data).mark_bar().encode(\n",
    "    y=alt.Y(field='loan_status',type='nominal',axis=alt.Axis(title='')),\n",
    "    x=alt.X(field='loan_amnt',type='quantitative',axis=alt.Axis(title='Count of Matured Loans')),\n",
    "    tooltip=['loan_status:N', 'loan_amnt'],\n",
    "    color='loan_status:N').properties(width=1000, height=100,title='Imbalanced dataset - Default vs non Defaults')"
   ]
  },
  {
   "cell_type": "markdown",
   "metadata": {},
   "source": [
    "**imbalanced data:** The majority of Lending Club loans are fully paid creating an imbalanced data set as seen in the above graph. While Machine Learning models can have difficulty training on imbalanced datasets, oversampling the minority class and making class weights equal is an effective strategy to counter this. This can lead to overfitting, however in this project oversampling significantly improved results and did not appear to cause overfitting. "
   ]
  },
  {
   "cell_type": "code",
   "execution_count": 6,
   "metadata": {},
   "outputs": [],
   "source": [
    "#ensure equal classes\n",
    "value_counts = lending_club_data.loan_status[lending_club_data.loan_status == 1].count()\n",
    "\n",
    "#to ensure that only the default/matured loans are in the dataframe\n",
    "default = lending_club_data[lending_club_data.loan_status == 0]\n",
    "non_default = lending_club_data[lending_club_data.loan_status == 1]\n",
    "\n",
    "#Adjust the numer of samples\n",
    "default_sample = default.sample(n=value_counts, replace=True)\n",
    "non_default_sample = non_default.sample(n=value_counts, replace=True)\n",
    "\n",
    "#combine the two data sets\n",
    "equal_def_non_def = default_sample.append(non_default_sample)"
   ]
  },
  {
   "cell_type": "markdown",
   "metadata": {},
   "source": [
    "shuffle data - After combining the data it is important to randomize the default and non default loans"
   ]
  },
  {
   "cell_type": "code",
   "execution_count": 7,
   "metadata": {},
   "outputs": [],
   "source": [
    "#shuffle\n",
    "from sklearn.utils import shuffle\n",
    "\n",
    "equal_def_non_def = shuffle(equal_def_non_def)\n",
    "\n",
    "data = equal_def_non_def"
   ]
  },
  {
   "cell_type": "markdown",
   "metadata": {},
   "source": [
    "### Building the model"
   ]
  },
  {
   "cell_type": "markdown",
   "metadata": {},
   "source": [
    "After using several classification models, the random forest proved best results without giving way to overfitting. \n",
    "\n",
    "Side Note: Once I finish this project I plan to try various deep learning algorithms to see if better results can be achieved. Also, instead of trying to predict whether or not a loan will default, which I will explore in a future post \n"
   ]
  },
  {
   "cell_type": "code",
   "execution_count": 8,
   "metadata": {},
   "outputs": [],
   "source": [
    "from sklearn.model_selection import train_test_split\n",
    "# prepare data\n",
    "#data = lending_club_data\n",
    "\n",
    "X = data.drop('loan_status', 1)\n",
    "y = data.loan_status\n",
    "\n",
    "# test train split\n",
    "\n",
    "X_train, X_test, y_train, y_test = train_test_split(X, y, test_size = 0.3, random_state=1)"
   ]
  },
  {
   "cell_type": "code",
   "execution_count": 9,
   "metadata": {},
   "outputs": [
    {
     "data": {
      "text/plain": [
       "RandomForestClassifier(bootstrap=False, class_weight='balanced',\n",
       "            criterion='gini', max_depth=None, max_features='auto',\n",
       "            max_leaf_nodes=None, min_impurity_decrease=0.0,\n",
       "            min_impurity_split=None, min_samples_leaf=1,\n",
       "            min_samples_split=2, min_weight_fraction_leaf=0.0,\n",
       "            n_estimators=75, n_jobs=-1, oob_score=False, random_state=None,\n",
       "            verbose=0, warm_start=False)"
      ]
     },
     "execution_count": 9,
     "metadata": {},
     "output_type": "execute_result"
    }
   ],
   "source": [
    "#Train Model\n",
    "from sklearn.ensemble import RandomForestClassifier\n",
    "\n",
    "model = RandomForestClassifier(\n",
    "        class_weight=\"balanced\",\n",
    "        bootstrap = False,\n",
    "        n_estimators=75,\n",
    "        n_jobs=-1)\n",
    "\n",
    "model.fit(X_train, y_train)"
   ]
  },
  {
   "cell_type": "markdown",
   "metadata": {},
   "source": [
    "### Evaluating the model"
   ]
  },
  {
   "cell_type": "markdown",
   "metadata": {},
   "source": [
    "The machine learning model achieved an accuracy score of 94.2%, though it oversampled the minority class. By looking at both the confusion matrix and the model scores we can conclude the model is accurately predicting defaults. The model was built using historical data, but how will it hold up on future predictions?\n"
   ]
  },
  {
   "cell_type": "code",
   "execution_count": 10,
   "metadata": {},
   "outputs": [
    {
     "data": {
      "image/png": "[encoded data removed]",
      "text/plain": [
       "<Figure size 432x288 with 1 Axes>"
      ]
     },
     "metadata": {
      "needs_background": "light"
     },
     "output_type": "display_data"
    },
    {
     "name": "stdout",
     "output_type": "stream",
     "text": [
      "Model score: 0.9424956289052168\n",
      "classification Report:\n",
      "              precision    recall  f1-score   support\n",
      "\n",
      "         0.0       0.94      0.94      0.94    290606\n",
      "         1.0       0.94      0.94      0.94    291628\n",
      "\n",
      "   micro avg       0.94      0.94      0.94    582234\n",
      "   macro avg       0.94      0.94      0.94    582234\n",
      "weighted avg       0.94      0.94      0.94    582234\n",
      "\n"
     ]
    }
   ],
   "source": [
    "#Evaluate Model \n",
    "from sklearn.metrics import confusion_matrix, classification_report, roc_curve, roc_auc_score\n",
    "import matplotlib.pyplot as plt\n",
    "%matplotlib inline\n",
    "\n",
    "y_pred = model.predict(X_test)\n",
    "\n",
    "y_pred_prob = model.predict_proba(X_test)[:,1]\n",
    "\n",
    "fpr, tpr, thresholds = roc_curve(y_test, y_pred_prob)\n",
    "#plot results\n",
    "plt.plot([0, 1], [0, 1], 'k--')\n",
    "plt.plot(fpr, tpr, label='Random Forest Classifier')\n",
    "plt.xlabel('False Positive Rate')\n",
    "plt.ylabel('True Positive Rate')\n",
    "plt.title('Random Forest Classifier ROC Curve')\n",
    "plt.show();\n",
    "\n",
    "#show results\n",
    "print(\"Model score:\",(model.score(X_test, y_test)))\n",
    "print(\"classification Report:\")\n",
    "print(classification_report(y_test, y_pred))"
   ]
  },
  {
   "cell_type": "code",
   "execution_count": 11,
   "metadata": {},
   "outputs": [
    {
     "name": "stdout",
     "output_type": "stream",
     "text": [
      "Confusion matrix, without normalization\n",
      "[[273896  16710]\n",
      " [ 16771 274857]]\n"
     ]
    },
    {
     "data": {
      "image/png": "[encoded data removed]",
      "text/plain": [
       "<Figure size 864x864 with 2 Axes>"
      ]
     },
     "metadata": {
      "needs_background": "light"
     },
     "output_type": "display_data"
    }
   ],
   "source": [
    "import itertools\n",
    "from itertools import cycle\n",
    "\n",
    "def plot_confusion_matrix(cm, classes,\n",
    "                          normalize=False,\n",
    "                          title='Confusion matrix',\n",
    "                          cmap=plt.cm.Blues):\n",
    "    fig = plt.figure(figsize=(12,12))\n",
    "    ax = fig.gca()\n",
    "\n",
    "    \"\"\"\n",
    "    This function prints and plots the confusion matrix.\n",
    "    Normalization can be applied by setting `normalize=True`.\n",
    "    \"\"\"\n",
    "    plt.imshow(cm, interpolation='nearest', cmap=cmap)\n",
    "    plt.title(title, size=24)\n",
    "    plt.colorbar()\n",
    "    tick_marks = np.arange(len(classes))\n",
    "    plt.xticks(tick_marks, classes, rotation=45)\n",
    "    plt.yticks(tick_marks, classes)\n",
    "\n",
    "    if normalize:\n",
    "        cm = cm.astype('float') / cm.sum(axis=1)[:, np.newaxis]\n",
    "        print(\"Normalized confusion matrix\")\n",
    "    else:\n",
    "        print('Confusion matrix, without normalization')\n",
    "\n",
    "    print(cm)\n",
    "\n",
    "    thresh = cm.max() / 2.\n",
    "    for i, j in itertools.product(range(cm.shape[0]), range(cm.shape[1])):\n",
    "        plt.text(j, i, cm[i, j],\n",
    "                 horizontalalignment=\"center\",\n",
    "                 color=\"white\" if cm[i, j] > thresh else \"black\")\n",
    "    ax.grid(b=False)\n",
    "    plt.tight_layout()\n",
    "    plt.ylabel('True label', size=10)\n",
    "    plt.xlabel('Predicted label', size=10)\n",
    "\n",
    "np.set_printoptions(precision=2)\n",
    "\n",
    "cnf_mtx = confusion_matrix(y_test, y_pred)\n",
    "class_names = data.loan_status.unique()\n",
    "\n",
    "plot_confusion_matrix(cnf_mtx, classes=class_names,\n",
    "                      title='Confusion matrix')\n",
    "\n",
    "plt.show()"
   ]
  },
  {
   "cell_type": "code",
   "execution_count": 12,
   "metadata": {},
   "outputs": [],
   "source": [
    "_feature_importances = pd.DataFrame({'coef':model.feature_importances_, 'features':X_train.columns}).sort_values('coef', ascending=False).head(25)"
   ]
  },
  {
   "cell_type": "code",
   "execution_count": 13,
   "metadata": {},
   "outputs": [
    {
     "data": {
      "application/vnd.vegalite.v2+json": {
       "$schema": "https://vega.github.io/schema/vega-lite/v2.6.0.json",
       "config": {
        "view": {
         "height": 300,
         "width": 400
        }
       },
       "data": {
        "name": "data-380fbaeb40849c97b48978f3f115f139"
       },
       "datasets": {
        "data-380fbaeb40849c97b48978f3f115f139": [
         {
          "coef": 0.052244448648631224,
          "features": "int_rate"
         },
         {
          "coef": 0.029466993871228777,
          "features": "dti"
         },
         {
          "coef": 0.02796073991626456,
          "features": "installment"
         },
         {
          "coef": 0.02465578287531424,
          "features": "loan_amnt"
         },
         {
          "coef": 0.024155508592782666,
          "features": "issue_day_min_earliest_cr_line"
         },
         {
          "coef": 0.024102944197415238,
          "features": "income_over_zip_med_income"
         },
         {
          "coef": 0.023999568243702186,
          "features": "income_min_mean_of_short_zip"
         },
         {
          "coef": 0.023884410749394968,
          "features": "revol_util"
         },
         {
          "coef": 0.023602779106886334,
          "features": "revol_bal"
         },
         {
          "coef": 0.023144481370251782,
          "features": "avg_cur_bal"
         },
         {
          "coef": 0.022877133204266032,
          "features": "annual_inc"
         },
         {
          "coef": 0.02269531270347139,
          "features": "bc_open_to_buy"
         },
         {
          "coef": 0.022417738716259166,
          "features": "tot_hi_cred_lim"
         },
         {
          "coef": 0.021845595861865255,
          "features": "bc_util"
         },
         {
          "coef": 0.021667305609536208,
          "features": "mo_sin_old_rev_tl_op"
         },
         {
          "coef": 0.021362091652801764,
          "features": "total_bc_limit"
         },
         {
          "coef": 0.021331391278165496,
          "features": "tot_cur_bal"
         },
         {
          "coef": 0.021234524626708225,
          "features": "total_bal_ex_mort"
         },
         {
          "coef": 0.021126556732696335,
          "features": "fico_mid"
         },
         {
          "coef": 0.021026439798883693,
          "features": "mo_sin_old_il_acct"
         },
         {
          "coef": 0.020929673538753975,
          "features": "total_rev_hi_lim"
         },
         {
          "coef": 0.019421177495190525,
          "features": "total_acc"
         },
         {
          "coef": 0.019329278084718755,
          "features": "mths_since_recent_bc"
         },
         {
          "coef": 0.019013454681147138,
          "features": "total_il_high_credit_limit"
         },
         {
          "coef": 0.016259718036453655,
          "features": "mo_sin_rcnt_rev_tl_op"
         }
        ]
       },
       "encoding": {
        "tooltip": [
         {
          "field": "coef",
          "type": "nominal"
         },
         {
          "field": "features",
          "type": "nominal"
         }
        ],
        "x": {
         "axis": {
          "title": "Feature Importances"
         },
         "field": "coef",
         "type": "quantitative"
        },
        "y": {
         "axis": {
          "title": ""
         },
         "field": "features",
         "type": "nominal"
        }
       },
       "height": 500,
       "mark": "bar",
       "title": "Model Feature Importances",
       "width": 1000
      },
      "image/png": "[encoded data removed]",
      "text/plain": [
       "<VegaLite 2 object>\n",
       "\n",
       "If you see this message, it means the renderer has not been properly enabled\n",
       "for the frontend that you are using. For more information, see\n",
       "https://altair-viz.github.io/user_guide/troubleshooting.html\n"
      ]
     },
     "execution_count": 13,
     "metadata": {},
     "output_type": "execute_result"
    }
   ],
   "source": [
    "alt.Chart(_feature_importances).mark_bar().encode(\n",
    "    y=alt.Y(field='features',type='nominal',axis=alt.Axis(title='')),\n",
    "    x=alt.X(field='coef',type='quantitative',axis=alt.Axis(title='Feature Importances')),\n",
    "    tooltip=['coef:N', 'features']\n",
    ").properties(width=1000, height=500,title='Model Feature Importances')"
   ]
  },
  {
   "cell_type": "markdown",
   "metadata": {},
   "source": [
    "### Month by month model training and prediction:"
   ]
  },
  {
   "cell_type": "markdown",
   "metadata": {},
   "source": [
    "To test the model, the environment needs to resemble the real world. To do this, the model is run on historical data which then predicts the outcome on new data. Starting in 2009, with two years of data, the model runs each month predicting the defaults on the following months loans. For each month, it predicts the probability of default and returns model scores. This data will be used in my next post when adding an investment strategy. "
   ]
  },
  {
   "cell_type": "code",
   "execution_count": 17,
   "metadata": {},
   "outputs": [],
   "source": [
    "model_df = pd.read_hdf('model_df.h5', key='df')"
   ]
  },
  {
   "cell_type": "code",
   "execution_count": 18,
   "metadata": {},
   "outputs": [],
   "source": [
    "model_df.dropna(subset=['issue_d'], how='all', inplace = True)\n",
    "\n",
    "#Get list of all moths \n",
    "month_list = model_df.issue_d.unique()\n",
    "month_list.sort()\n",
    "month_list = month_list[5:] # starting from 2009"
   ]
  },
  {
   "cell_type": "code",
   "execution_count": 19,
   "metadata": {},
   "outputs": [
    {
     "name": "stderr",
     "output_type": "stream",
     "text": [
      "/usr/local/anaconda3/lib/python3.7/site-packages/sklearn/utils/deprecation.py:58: DeprecationWarning: Class Imputer is deprecated; Imputer was deprecated in version 0.20 and will be removed in 0.22. Import impute.SimpleImputer from sklearn instead.\n",
      "  warnings.warn(msg, category=DeprecationWarning)\n",
      "/usr/local/anaconda3/lib/python3.7/site-packages/ipykernel_launcher.py:30: SettingWithCopyWarning: \n",
      "A value is trying to be set on a copy of a slice from a DataFrame.\n",
      "Try using .loc[row_indexer,col_indexer] = value instead\n",
      "\n",
      "See the caveats in the documentation: http://pandas.pydata.org/pandas-docs/stable/indexing.html#indexing-view-versus-copy\n"
     ]
    }
   ],
   "source": [
    "#Same as before, clean and prepare data\n",
    "\n",
    "lending_club_data = model_df\n",
    "\n",
    "lending_club_data = lending_club_data.dropna(subset=['loan_status'])\n",
    "\n",
    "todummy_list = ['sub_grade', 'grade', 'purpose', 'home_ownership', 'disbursement_method']\n",
    "\n",
    "def dummy_df(lending_club_data, todummy_list):\n",
    "        for x in todummy_list:\n",
    "            dummies = pd.get_dummies(lending_club_data[x], prefix=x, dummy_na=False)\n",
    "            lending_club_data = lending_club_data.drop(x, 1)\n",
    "            lending_club_data = pd.concat([lending_club_data, dummies], axis=1)\n",
    "        return lending_club_data\n",
    "\n",
    "lending_club_data = dummy_df(lending_club_data, todummy_list)\n",
    "\n",
    "#the imputer does not accept date variables\n",
    "columns_to_drop = ['issue_d']\n",
    "lending_club_data = lending_club_data.drop(columns_to_drop, 1)\n",
    "\n",
    "# imputer\n",
    "from sklearn.preprocessing import Imputer\n",
    "imp = Imputer(missing_values='NaN', strategy='median', axis=1)\n",
    "\n",
    "imp.fit(lending_club_data)\n",
    "lending_club_data = pd.DataFrame(data=imp.transform(lending_club_data),\n",
    "                                     columns=lending_club_data.columns)\n",
    "\n",
    "#Add back date after imputer\n",
    "date_add_back = model_df[['issue_d','id']]\n",
    "date_add_back['id'] = date_add_back.id.astype(float)\n",
    "\n",
    "lending_club_data = lending_club_data.merge(date_add_back[['issue_d','id']], on='id', how='left')"
   ]
  },
  {
   "cell_type": "code",
   "execution_count": 20,
   "metadata": {},
   "outputs": [],
   "source": [
    "#model Train:\n",
    "def model_train(lending_club_data):\n",
    "    \"\"\"\n",
    "    Input: Cleaned lending club data \n",
    "    Operations: Normalizes data, runs random forest model, Calculates model score\n",
    "    Output: Dictionary  of Trained model, model score, precision score, roc auc score, and  f1 score\n",
    "    \"\"\"\n",
    "    from sklearn.utils import shuffle\n",
    "    from sklearn.model_selection import train_test_split\n",
    "    from sklearn.ensemble import RandomForestClassifier\n",
    "    from sklearn.metrics import roc_auc_score, precision_score, recall_score, f1_score\n",
    "    \n",
    "    lending_club_data = lending_club_data.set_index('id')\n",
    "    \n",
    "    columns_to_drop = ['issue_d']\n",
    "    lending_club_data = lending_club_data.drop(columns_to_drop, 1)\n",
    "    \n",
    "    #ensure equal classes\n",
    "    value_counts = lending_club_data.loan_status[lending_club_data.loan_status == 1].count()\n",
    "    #to ensure that only the default/matured loans are in the dataframe\n",
    "    default = lending_club_data[lending_club_data.loan_status == 0]\n",
    "    non_default = lending_club_data[lending_club_data.loan_status == 1]\n",
    "\n",
    "    #Adjust the numer of samples\n",
    "    default_sample = default.sample(n=value_counts, replace=True)\n",
    "    non_default_sample = non_default.sample(n=value_counts, replace=True)\n",
    "\n",
    "    #combine the two data sets\n",
    "    equal_def_non_def = default_sample.append(non_default_sample)\n",
    "    \n",
    "    #shuffle\n",
    "    equal_def_non_def = shuffle(equal_def_non_def)\n",
    "\n",
    "    data = equal_def_non_def\n",
    "    \n",
    "    # prepare data\n",
    "\n",
    "    X = data.drop('loan_status', 1)\n",
    "    y = data.loan_status\n",
    "\n",
    "    # test train split\n",
    "\n",
    "    X_train, X_test, y_train, y_test = train_test_split(X, y, test_size = 0.30, random_state=1)\n",
    "    \n",
    "    #train model\n",
    "    model = RandomForestClassifier(\n",
    "            class_weight=\"balanced\",\n",
    "            bootstrap = False,\n",
    "            n_estimators=75,\n",
    "            n_jobs=-1)\n",
    "\n",
    "    model.fit(X_train, y_train)\n",
    "    y_pred = model.predict(X_test)\n",
    "    \n",
    "    #evaluate model\n",
    "    y_pred_prob = model.predict_proba(X_test)[:,1]\n",
    "    \n",
    "    model_score = model.score(X_test, y_test)\n",
    "    \n",
    "    precision_score = precision_score(y_test, y_pred, 'weighted')\n",
    "    roc_auc_score = roc_auc_score(y_test, y_pred, 'weighted')\n",
    "    f1_score = f1_score(y_test, y_pred, 'weighted')\n",
    "    \n",
    "    model_dict = {'model':model, \n",
    "                  'model_score': model_score, \n",
    "                  'precision_score':precision_score, \n",
    "                  'roc_auc_score': roc_auc_score, \n",
    "                  'f1_score': f1_score}\n",
    "    \n",
    "    return model_dict"
   ]
  },
  {
   "cell_type": "code",
   "execution_count": 21,
   "metadata": {},
   "outputs": [],
   "source": [
    "#model Predict\n",
    "def model_predict(data, model):\n",
    "    \"\"\"\n",
    "    Input: Lending club data, trained model\n",
    "    Operations: Uses trained model to make predictions on lending club data\n",
    "    Output: Data with default probabilities \n",
    "    \"\"\"\n",
    "    \n",
    "    loan_ID = data.id\n",
    "    date_add_back = data.issue_d\n",
    "    \n",
    "    columns_to_drop = ['issue_d', 'id']\n",
    "    data = data.drop(columns_to_drop, 1)\n",
    "    \n",
    "    X_data = data.drop('loan_status', 1)\n",
    "    Y_data = data.loan_status\n",
    "    \n",
    "    data['proba'] = model.predict_proba(X_data)[:, 1]\n",
    "    data['loan_status'] = Y_data\n",
    "    data['loan_ID'] = loan_ID\n",
    "    data['issue_d'] = date_add_back\n",
    "    return data"
   ]
  },
  {
   "cell_type": "code",
   "execution_count": 22,
   "metadata": {},
   "outputs": [],
   "source": [
    "def month_by_month_prediction(month_list, lending_club_data):\n",
    "    \"\"\"\n",
    "    Input: Month list, lending club data\n",
    "    Operations: predicts default probability on each month in month list and computes model score\n",
    "    Output: data with default probability monthly model scores\n",
    "    \"\"\"\n",
    "    full_data_set = pd.DataFrame()\n",
    "    for month in month_list:\n",
    "        \n",
    "        #filter out future months including month being tested\n",
    "        training_data = lending_club_data[lending_club_data.issue_d < month]\n",
    "        \n",
    "        #Traine model:\n",
    "        trained_model_dict = model_train(training_data)\n",
    "        \n",
    "        #return evaluation metrics\n",
    "        model = trained_model_dict.get('model')\n",
    "        model_score = trained_model_dict.get('model_score')\n",
    "        precision_score = trained_model_dict.get('precision_score')\n",
    "        roc_auc_score = trained_model_dict.get('roc_auc_score')\n",
    "        f1_score = trained_model_dict.get('f1_score')\n",
    "        \n",
    "        #predict on month being tested\n",
    "        predict_data = lending_club_data[lending_club_data.issue_d == month]\n",
    "        predicted_df = model_predict(predict_data, model)\n",
    "        \n",
    "        #add model info\n",
    "        predicted_df['model_score'] = model_score\n",
    "        predicted_df['precision_score'] = precision_score\n",
    "        predicted_df['roc_auc_score'] = roc_auc_score\n",
    "        predicted_df['f1_score'] = f1_score\n",
    "        \n",
    "        #append data for each month\n",
    "        full_data_set = full_data_set.append(predicted_df)\n",
    "    return full_data_set"
   ]
  },
  {
   "cell_type": "code",
   "execution_count": 23,
   "metadata": {},
   "outputs": [],
   "source": [
    "dataset_monthly_predictions = month_by_month_prediction(month_list, lending_club_data)"
   ]
  },
  {
   "cell_type": "code",
   "execution_count": 24,
   "metadata": {},
   "outputs": [],
   "source": [
    "model_df['loan_ID'] = model_df.id.astype(float)"
   ]
  },
  {
   "cell_type": "code",
   "execution_count": 25,
   "metadata": {},
   "outputs": [],
   "source": [
    "dataset_monthly_predictions = dataset_monthly_predictions.merge(model_df[['grade',\n",
    "                                                                          'sub_grade',\n",
    "                                                                          'loan_ID']], on='loan_ID', how='left')"
   ]
  },
  {
   "cell_type": "code",
   "execution_count": 26,
   "metadata": {},
   "outputs": [],
   "source": [
    "dataset_monthly_predictions.to_hdf('dataset_monthly_predictions.h5', key='df') # save data"
   ]
  },
  {
   "cell_type": "code",
   "execution_count": 51,
   "metadata": {},
   "outputs": [],
   "source": [
    "dataset_monthly_predictions = pd.read_hdf('dataset_monthly_predictions.h5', key='df')"
   ]
  },
  {
   "cell_type": "markdown",
   "metadata": {},
   "source": [
    "### Month by month evaluating"
   ]
  },
  {
   "cell_type": "markdown",
   "metadata": {},
   "source": [
    "Model scores saw slight fluctuations over time but never dropped below 92% accuracy. Also, looking at the Predicted Non-Default Probability Vs True Loan Status graph, this model can accurately be used to predict what loans are less likely to default. "
   ]
  },
  {
   "cell_type": "code",
   "execution_count": 28,
   "metadata": {},
   "outputs": [],
   "source": [
    "model_performance = dataset_monthly_predictions.groupby(['issue_d','model_score',\n",
    "                                                         'precision_score',\n",
    "                                                         'roc_auc_score','f1_score'])[\n",
    "                                                                            'loan_ID'].count().reset_index()\n",
    "\n",
    "df = pd.melt(model_performance, id_vars=['issue_d'], value_vars=['model_score', 'precision_score','f1_score' ])"
   ]
  },
  {
   "cell_type": "code",
   "execution_count": 30,
   "metadata": {},
   "outputs": [
    {
     "data": {
      "application/vnd.vegalite.v2+json": {
       "$schema": "https://vega.github.io/schema/vega-lite/v2.6.0.json",
       "config": {
        "view": {
         "height": 300,
         "width": 400
        }
       },
       "datasets": {
        "data-04c701cacd445fc96e3856831eaa7d0a": [
         {
          "f1_score": 0.9841269841269841,
          "issue_d": "2007-11-01T00:00:00",
          "loan_ID": 37,
          "model_score": 0.9848484848484849,
          "precision_score": 1,
          "roc_auc_score": 0.984375
         },
         {
          "f1_score": 0.989010989010989,
          "issue_d": "2007-12-01T00:00:00",
          "loan_ID": 85,
          "model_score": 0.9880952380952381,
          "precision_score": 1,
          "roc_auc_score": 0.9891304347826086
         },
         {
          "f1_score": 0.9357798165137615,
          "issue_d": "2008-01-01T00:00:00",
          "loan_ID": 171,
          "model_score": 0.9435483870967742,
          "precision_score": 0.9272727272727272,
          "roc_auc_score": 0.9436507936507936
         },
         {
          "f1_score": 0.9639639639639639,
          "issue_d": "2008-02-01T00:00:00",
          "loan_ID": 174,
          "model_score": 0.9615384615384616,
          "precision_score": 0.9385964912280702,
          "roc_auc_score": 0.9603703703703703
         },
         {
          "f1_score": 0.959409594095941,
          "issue_d": "2008-03-01T00:00:00",
          "loan_ID": 236,
          "model_score": 0.9629629629629629,
          "precision_score": 0.9629629629629629,
          "roc_auc_score": 0.9624132261600293
         },
         {
          "f1_score": 0.9692307692307692,
          "issue_d": "2008-04-01T00:00:00",
          "loan_ID": 155,
          "model_score": 0.9710843373493976,
          "precision_score": 0.9792746113989638,
          "roc_auc_score": 0.9705211195454756
         },
         {
          "f1_score": 0.9803149606299214,
          "issue_d": "2008-05-01T00:00:00",
          "loan_ID": 71,
          "model_score": 0.9796747967479674,
          "precision_score": 0.9803149606299213,
          "roc_auc_score": 0.9796532786342883
         },
         {
          "f1_score": 0.9757914338919925,
          "issue_d": "2008-06-01T00:00:00",
          "loan_ID": 66,
          "model_score": 0.9753787878787878,
          "precision_score": 0.9812734082397003,
          "roc_auc_score": 0.9754952627045649
         },
         {
          "f1_score": 0.9805309734513273,
          "issue_d": "2008-07-01T00:00:00",
          "loan_ID": 83,
          "model_score": 0.9804964539007093,
          "precision_score": 0.9787985865724381,
          "roc_auc_score": 0.9804964539007093
         },
         {
          "f1_score": 0.9813242784380305,
          "issue_d": "2008-08-01T00:00:00",
          "loan_ID": 71,
          "model_score": 0.9817578772802653,
          "precision_score": 0.993127147766323,
          "roc_auc_score": 0.9816206403344703
         },
         {
          "f1_score": 0.9818780889621087,
          "issue_d": "2008-09-01T00:00:00",
          "loan_ID": 32,
          "model_score": 0.9828660436137072,
          "precision_score": 0.9867549668874173,
          "roc_auc_score": 0.9825898720630443
         },
         {
          "f1_score": 0.9666666666666667,
          "issue_d": "2008-10-01T00:00:00",
          "loan_ID": 96,
          "model_score": 0.9666160849772383,
          "precision_score": 0.9666666666666667,
          "roc_auc_score": 0.9666160081053699
         },
         {
          "f1_score": 0.9647390691114245,
          "issue_d": "2008-11-01T00:00:00",
          "loan_ID": 184,
          "model_score": 0.9646393210749646,
          "precision_score": 0.9606741573033708,
          "roc_auc_score": 0.9646452521566556
         },
         {
          "f1_score": 0.986469864698647,
          "issue_d": "2008-12-01T00:00:00",
          "loan_ID": 223,
          "model_score": 0.986232790988736,
          "precision_score": 0.9876847290640394,
          "roc_auc_score": 0.9862514416085845
         },
         {
          "f1_score": 0.9855715871254163,
          "issue_d": "2009-01-01T00:00:00",
          "loan_ID": 239,
          "model_score": 0.9857612267250822,
          "precision_score": 0.9758241758241758,
          "roc_auc_score": 0.9859805456064374
         },
         {
          "f1_score": 0.9682997118155621,
          "issue_d": "2009-02-01T00:00:00",
          "loan_ID": 260,
          "model_score": 0.9682692307692308,
          "precision_score": 0.980544747081712,
          "roc_auc_score": 0.9684317794274849
         },
         {
          "f1_score": 0.9930434782608696,
          "issue_d": "2009-03-01T00:00:00",
          "loan_ID": 276,
          "model_score": 0.9931914893617021,
          "precision_score": 0.9913194444444444,
          "roc_auc_score": 0.9932270258048432
         },
         {
          "f1_score": 0.9947169811320754,
          "issue_d": "2009-04-01T00:00:00",
          "loan_ID": 290,
          "model_score": 0.9947049924357034,
          "precision_score": 0.9969742813918305,
          "roc_auc_score": 0.9947151829201304
         },
         {
          "f1_score": 0.988458927359131,
          "issue_d": "2009-05-01T00:00:00",
          "loan_ID": 319,
          "model_score": 0.9884510869565217,
          "precision_score": 0.986449864498645,
          "roc_auc_score": 0.9884538347224914
         },
         {
          "f1_score": 0.9964071856287425,
          "issue_d": "2009-06-01T00:00:00",
          "loan_ID": 356,
          "model_score": 0.9963369963369964,
          "precision_score": 0.9976019184652278,
          "roc_auc_score": 0.9963607727093748
         },
         {
          "f1_score": 0.9843575418994414,
          "issue_d": "2009-07-01T00:00:00",
          "loan_ID": 374,
          "model_score": 0.9846659364731654,
          "precision_score": 0.9734806629834254,
          "roc_auc_score": 0.984987721921024
         },
         {
          "f1_score": 0.9904088844018173,
          "issue_d": "2009-08-01T00:00:00",
          "loan_ID": 408,
          "model_score": 0.9906033630069239,
          "precision_score": 0.9869215291750503,
          "roc_auc_score": 0.9906802930854736
         },
         {
          "f1_score": 0.9904926534140017,
          "issue_d": "2009-09-01T00:00:00",
          "loan_ID": 449,
          "model_score": 0.990191707534552,
          "precision_score": 0.9845360824742269,
          "roc_auc_score": 0.9900266518159035
         },
         {
          "f1_score": 0.9889480147359804,
          "issue_d": "2009-10-01T00:00:00",
          "loan_ID": 545,
          "model_score": 0.9891041162227603,
          "precision_score": 0.9917898193760263,
          "roc_auc_score": 0.9890708015049595
         },
         {
          "f1_score": 0.9919295671313278,
          "issue_d": "2009-11-01T00:00:00",
          "loan_ID": 602,
          "model_score": 0.9920087177624409,
          "precision_score": 0.9941176470588236,
          "roc_auc_score": 0.9919916269142139
         },
         {
          "f1_score": 0.9927344782034345,
          "issue_d": "2009-12-01T00:00:00",
          "loan_ID": 598,
          "model_score": 0.9928221859706362,
          "precision_score": 0.9940476190476191,
          "roc_auc_score": 0.9928073009908512
         },
         {
          "f1_score": 0.9951359084406295,
          "issue_d": "2010-01-01T00:00:00",
          "loan_ID": 589,
          "model_score": 0.9949793266391022,
          "precision_score": 0.9931467732724157,
          "roc_auc_score": 0.9949124333716994
         },
         {
          "f1_score": 0.9961706783369803,
          "issue_d": "2010-02-01T00:00:00",
          "loan_ID": 627,
          "model_score": 0.9962100703844071,
          "precision_score": 0.9956260251503554,
          "roc_auc_score": 0.9962154893170906
         },
         {
          "f1_score": 0.991304347826087,
          "issue_d": "2010-03-01T00:00:00",
          "loan_ID": 737,
          "model_score": 0.9913194444444444,
          "precision_score": 0.9900744416873449,
          "roc_auc_score": 0.9913230582990094
         },
         {
          "f1_score": 0.9935125115848007,
          "issue_d": "2010-04-01T00:00:00",
          "loan_ID": 827,
          "model_score": 0.9936837356192195,
          "precision_score": 0.992133271633503,
          "roc_auc_score": 0.9937164525400838
         },
         {
          "f1_score": 0.9930803103375969,
          "issue_d": "2010-05-01T00:00:00",
          "loan_ID": 920,
          "model_score": 0.9932377049180328,
          "precision_score": 0.9907949790794979,
          "roc_auc_score": 0.9932898635417627
         },
         {
          "f1_score": 0.9934859482598176,
          "issue_d": "2010-06-01T00:00:00",
          "loan_ID": 1029,
          "model_score": 0.9934664924397983,
          "precision_score": 0.9914561664190193,
          "roc_auc_score": 0.9934645701997503
         },
         {
          "f1_score": 0.9868020304568528,
          "issue_d": "2010-07-01T00:00:00",
          "loan_ID": 1119,
          "model_score": 0.9867234042553191,
          "precision_score": 0.9848024316109423,
          "roc_auc_score": 0.9867152042688799
         },
         {
          "f1_score": 0.9928968499073502,
          "issue_d": "2010-08-01T00:00:00",
          "loan_ID": 1078,
          "model_score": 0.9928836633663366,
          "precision_score": 0.9889264841587204,
          "roc_auc_score": 0.9928923416405198
         },
         {
          "f1_score": 0.9909533750869868,
          "issue_d": "2010-09-01T00:00:00",
          "loan_ID": 1087,
          "model_score": 0.9907433779549986,
          "precision_score": 0.9916434540389972,
          "roc_auc_score": 0.9907551218276851
         },
         {
          "f1_score": 0.9904357066950052,
          "issue_d": "2010-10-01T00:00:00",
          "loan_ID": 1133,
          "model_score": 0.990487514863258,
          "precision_score": 0.9909622541201488,
          "roc_auc_score": 0.9904847041264486
         },
         {
          "f1_score": 0.9918022757861251,
          "issue_d": "2010-11-01T00:00:00",
          "loan_ID": 1121,
          "model_score": 0.9917821660738378,
          "precision_score": 0.9892604344642422,
          "roc_auc_score": 0.9917824818755154
         },
         {
          "f1_score": 0.9918437679494543,
          "issue_d": "2010-12-01T00:00:00",
          "loan_ID": 1269,
          "model_score": 0.9918764302059496,
          "precision_score": 0.9908193711269222,
          "roc_auc_score": 0.9918814085323654
         },
         {
          "f1_score": 0.9929934245984694,
          "issue_d": "2011-01-01T00:00:00",
          "loan_ID": 1380,
          "model_score": 0.9930968564146134,
          "precision_score": 0.9933146430882036,
          "roc_auc_score": 0.9930908132617109
         },
         {
          "f1_score": 0.9935342683775988,
          "issue_d": "2011-02-01T00:00:00",
          "loan_ID": 1298,
          "model_score": 0.9935846821950257,
          "precision_score": 0.9918570009930486,
          "roc_auc_score": 0.9936000051749564
         },
         {
          "f1_score": 0.9916866802142988,
          "issue_d": "2011-03-01T00:00:00",
          "loan_ID": 1448,
          "model_score": 0.9916736053288926,
          "precision_score": 0.991869918699187,
          "roc_auc_score": 0.9916739048490287
         },
         {
          "f1_score": 0.9911565209925303,
          "issue_d": "2011-04-01T00:00:00",
          "loan_ID": 1563,
          "model_score": 0.9910837950138505,
          "precision_score": 0.9898816669524952,
          "roc_auc_score": 0.9910743747350166
         },
         {
          "f1_score": 0.9913563292673077,
          "issue_d": "2011-05-01T00:00:00",
          "loan_ID": 1704,
          "model_score": 0.991340940357692,
          "precision_score": 0.9890393294648614,
          "roc_auc_score": 0.9913422670231063
         },
         {
          "f1_score": 0.990963626699066,
          "issue_d": "2011-06-01T00:00:00",
          "loan_ID": 1835,
          "model_score": 0.9909882620219613,
          "precision_score": 0.9887861797242007,
          "roc_auc_score": 0.9909988541462357
         },
         {
          "f1_score": 0.989802377101062,
          "issue_d": "2011-07-01T00:00:00",
          "loan_ID": 1875,
          "model_score": 0.9897483031674208,
          "precision_score": 0.9900112549240293,
          "roc_auc_score": 0.9897491611106793
         },
         {
          "f1_score": 0.990009324630345,
          "issue_d": "2011-08-01T00:00:00",
          "loan_ID": 1934,
          "model_score": 0.9900655672561097,
          "precision_score": 0.9906691548920288,
          "roc_auc_score": 0.9900620322891307
         },
         {
          "f1_score": 0.9907661592213626,
          "issue_d": "2011-09-01T00:00:00",
          "loan_ID": 2067,
          "model_score": 0.9908057402000373,
          "precision_score": 0.9891615796686184,
          "roc_auc_score": 0.9908149527875221
         },
         {
          "f1_score": 0.9900967027845741,
          "issue_d": "2011-10-01T00:00:00",
          "loan_ID": 2118,
          "model_score": 0.9900891972249752,
          "precision_score": 0.9907893202751544,
          "roc_auc_score": 0.9900901958007725
         },
         {
          "f1_score": 0.9894165235219149,
          "issue_d": "2011-11-01T00:00:00",
          "loan_ID": 2232,
          "model_score": 0.989526211888572,
          "precision_score": 0.9888138221286964,
          "roc_auc_score": 0.989531568236926
         },
         {
          "f1_score": 0.9892084473589096,
          "issue_d": "2011-12-01T00:00:00",
          "loan_ID": 2267,
          "model_score": 0.9892090045435771,
          "precision_score": 0.9875257731958763,
          "roc_auc_score": 0.9892119623456994
         },
         {
          "f1_score": 0.9888421258686503,
          "issue_d": "2012-01-01T00:00:00",
          "loan_ID": 2602,
          "model_score": 0.9888617489008305,
          "precision_score": 0.9885518590998043,
          "roc_auc_score": 0.9888623034151832
         },
         {
          "f1_score": 0.9875953321694386,
          "issue_d": "2012-02-01T00:00:00",
          "loan_ID": 2560,
          "model_score": 0.9875959020535673,
          "precision_score": 0.9881401121632803,
          "roc_auc_score": 0.9875961774830883
         },
         {
          "f1_score": 0.9872076495671276,
          "issue_d": "2012-03-01T00:00:00",
          "loan_ID": 2914,
          "model_score": 0.9871155264413691,
          "precision_score": 0.9867401412088859,
          "roc_auc_score": 0.9871117348804885
         },
         {
          "f1_score": 0.9852423887114382,
          "issue_d": "2012-04-01T00:00:00",
          "loan_ID": 3230,
          "model_score": 0.9851220804630497,
          "precision_score": 0.9844065605558697,
          "roc_auc_score": 0.9851150424940981
         },
         {
          "f1_score": 0.9861459998477582,
          "issue_d": "2012-05-01T00:00:00",
          "loan_ID": 3400,
          "model_score": 0.986093069458241,
          "precision_score": 0.9843476939442292,
          "roc_auc_score": 0.9860893711737835
         },
         {
          "f1_score": 0.9850853548966757,
          "issue_d": "2012-06-01T00:00:00",
          "loan_ID": 3817,
          "model_score": 0.9851105051664754,
          "precision_score": 0.984059740073239,
          "roc_auc_score": 0.9851132315852583
         },
         {
          "f1_score": 0.9844178425733967,
          "issue_d": "2012-07-01T00:00:00",
          "loan_ID": 4627,
          "model_score": 0.9843277056568238,
          "precision_score": 0.9845495284596348,
          "roc_auc_score": 0.9843279528460657
         },
         {
          "f1_score": 0.9841636732781509,
          "issue_d": "2012-08-01T00:00:00",
          "loan_ID": 5419,
          "model_score": 0.9841656516443362,
          "precision_score": 0.9826596806387226,
          "roc_auc_score": 0.984168141390312
         },
         {
          "f1_score": 0.9830508474576272,
          "issue_d": "2012-09-01T00:00:00",
          "loan_ID": 6087,
          "model_score": 0.9830166954519286,
          "precision_score": 0.9834463731463386,
          "roc_auc_score": 0.9830175705868467
         },
         {
          "f1_score": 0.9830606251311097,
          "issue_d": "2012-10-01T00:00:00",
          "loan_ID": 6263,
          "model_score": 0.9829195420533566,
          "precision_score": 0.9804895909613977,
          "roc_auc_score": 0.982903959120241
         },
         {
          "f1_score": 0.9829972513439226,
          "issue_d": "2012-11-01T00:00:00",
          "loan_ID": 6382,
          "model_score": 0.9829520511194576,
          "precision_score": 0.9821133469427432,
          "roc_auc_score": 0.9829504139293632
         },
         {
          "f1_score": 0.9821130885334535,
          "issue_d": "2012-12-01T00:00:00",
          "loan_ID": 6066,
          "model_score": 0.9820418871850545,
          "precision_score": 0.9805226935360533,
          "roc_auc_score": 0.9820379573857244
         },
         {
          "f1_score": 0.9843921834024194,
          "issue_d": "2013-01-01T00:00:00",
          "loan_ID": 6872,
          "model_score": 0.9843987823439878,
          "precision_score": 0.9822317886384738,
          "roc_auc_score": 0.9844044383216801
         },
         {
          "f1_score": 0.9834429309534992,
          "issue_d": "2013-02-01T00:00:00",
          "loan_ID": 7561,
          "model_score": 0.9833454731578637,
          "precision_score": 0.9825199436884092,
          "roc_auc_score": 0.9833403972392047
         },
         {
          "f1_score": 0.9824959718763733,
          "issue_d": "2013-03-01T00:00:00",
          "loan_ID": 8273,
          "model_score": 0.9825030198762765,
          "precision_score": 0.9811306955313391,
          "roc_auc_score": 0.9825054584772519
         },
         {
          "f1_score": 0.982825428518249,
          "issue_d": "2013-04-01T00:00:00",
          "loan_ID": 9419,
          "model_score": 0.9827618416806779,
          "precision_score": 0.9811817966823203,
          "roc_auc_score": 0.9827583731905607
         },
         {
          "f1_score": 0.9820194946531655,
          "issue_d": "2013-05-01T00:00:00",
          "loan_ID": 10350,
          "model_score": 0.9820839226779821,
          "precision_score": 0.9806583713970703,
          "roc_auc_score": 0.9820903492148235
         },
         {
          "f1_score": 0.9818086713936998,
          "issue_d": "2013-06-01T00:00:00",
          "loan_ID": 10899,
          "model_score": 0.9818044413440298,
          "precision_score": 0.9800713601949351,
          "roc_auc_score": 0.9818071295846159
         },
         {
          "f1_score": 0.9816927495772152,
          "issue_d": "2013-07-01T00:00:00",
          "loan_ID": 11910,
          "model_score": 0.981639767939589,
          "precision_score": 0.9814819784761547,
          "roc_auc_score": 0.9816390592960997
         },
         {
          "f1_score": 0.9830162366769599,
          "issue_d": "2013-08-01T00:00:00",
          "loan_ID": 12672,
          "model_score": 0.98301877396544,
          "precision_score": 0.9814520139234212,
          "roc_auc_score": 0.9830214998444521
         },
         {
          "f1_score": 0.9821559970566593,
          "issue_d": "2013-09-01T00:00:00",
          "loan_ID": 12970,
          "model_score": 0.9821119845093474,
          "precision_score": 0.9800151435192621,
          "roc_auc_score": 0.9821113773733756
         },
         {
          "f1_score": 0.9826684771568177,
          "issue_d": "2013-10-01T00:00:00",
          "loan_ID": 11392,
          "model_score": 0.9826285444842146,
          "precision_score": 0.9810845431255337,
          "roc_auc_score": 0.9826274264646729
         },
         {
          "f1_score": 0.9817211258492398,
          "issue_d": "2013-11-01T00:00:00",
          "loan_ID": 14691,
          "model_score": 0.9817489880177261,
          "precision_score": 0.9789104399370943,
          "roc_auc_score": 0.9817612251438711
         },
         {
          "f1_score": 0.9824250121400021,
          "issue_d": "2013-12-01T00:00:00",
          "loan_ID": 14812,
          "model_score": 0.9823314588281683,
          "precision_score": 0.9810873822624265,
          "roc_auc_score": 0.9823257652505315
         },
         {
          "f1_score": 0.9821236570889097,
          "issue_d": "2014-01-01T00:00:00",
          "loan_ID": 14989,
          "model_score": 0.9820637635398851,
          "precision_score": 0.9795975307780839,
          "roc_auc_score": 0.982061778776415
         },
         {
          "f1_score": 0.9814421795567839,
          "issue_d": "2014-02-01T00:00:00",
          "loan_ID": 14548,
          "model_score": 0.9814343908159486,
          "precision_score": 0.9797657956542447,
          "roc_auc_score": 0.9814365714104577
         },
         {
          "f1_score": 0.9821284015193972,
          "issue_d": "2014-03-01T00:00:00",
          "loan_ID": 15642,
          "model_score": 0.9821621411645884,
          "precision_score": 0.9801143425304499,
          "roc_auc_score": 0.9821699434523279
         },
         {
          "f1_score": 0.9804471710182008,
          "issue_d": "2014-04-01T00:00:00",
          "loan_ID": 18024,
          "model_score": 0.9802833625295932,
          "precision_score": 0.977647314633616,
          "roc_auc_score": 0.9802669137876969
         },
         {
          "f1_score": 0.9801620910712194,
          "issue_d": "2014-05-01T00:00:00",
          "loan_ID": 17971,
          "model_score": 0.9801620910712195,
          "precision_score": 0.9783095765006666,
          "roc_auc_score": 0.9801656056243606
         },
         {
          "f1_score": 0.9787877417312252,
          "issue_d": "2014-06-01T00:00:00",
          "loan_ID": 16055,
          "model_score": 0.9786812644484272,
          "precision_score": 0.9774803840594672,
          "roc_auc_score": 0.9786760359233263
         },
         {
          "f1_score": 0.9783027046302729,
          "issue_d": "2014-07-01T00:00:00",
          "loan_ID": 27362,
          "model_score": 0.9781791425002783,
          "precision_score": 0.9768312747096236,
          "roc_auc_score": 0.9781724289591488
         },
         {
          "f1_score": 0.9764231204793908,
          "issue_d": "2014-08-01T00:00:00",
          "loan_ID": 17618,
          "model_score": 0.9763263906745522,
          "precision_score": 0.9747312927488808,
          "roc_auc_score": 0.9763221458980809
         },
         {
          "f1_score": 0.9753527241154765,
          "issue_d": "2014-09-01T00:00:00",
          "loan_ID": 9884,
          "model_score": 0.975254833806408,
          "precision_score": 0.9734299516908212,
          "roc_auc_score": 0.9752507924500805
         },
         {
          "f1_score": 0.9754720085776313,
          "issue_d": "2014-10-01T00:00:00",
          "loan_ID": 33393,
          "model_score": 0.9754643247777931,
          "precision_score": 0.9735342105820779,
          "roc_auc_score": 0.97546759645411
         },
         {
          "f1_score": 0.9736751935935466,
          "issue_d": "2014-11-01T00:00:00",
          "loan_ID": 22588,
          "model_score": 0.973681892476486,
          "precision_score": 0.9724756289538783,
          "roc_auc_score": 0.9736836688358713
         },
         {
          "f1_score": 0.9725345057880678,
          "issue_d": "2014-12-01T00:00:00",
          "loan_ID": 9308,
          "model_score": 0.9724849926589477,
          "precision_score": 0.9705898689180182,
          "roc_auc_score": 0.9724854018443222
         },
         {
          "f1_score": 0.9742576601100708,
          "issue_d": "2015-01-01T00:00:00",
          "loan_ID": 31946,
          "model_score": 0.9742669142139464,
          "precision_score": 0.9728538051037755,
          "roc_auc_score": 0.9742694300607744
         },
         {
          "f1_score": 0.9706271230395762,
          "issue_d": "2015-02-01T00:00:00",
          "loan_ID": 21466,
          "model_score": 0.9705992493425364,
          "precision_score": 0.9694689551503622,
          "roc_auc_score": 0.9705995426865669
         },
         {
          "f1_score": 0.9710032815718974,
          "issue_d": "2015-03-01T00:00:00",
          "loan_ID": 22773,
          "model_score": 0.9709684125567118,
          "precision_score": 0.97015010373022,
          "roc_auc_score": 0.9709681260033158
         },
         {
          "f1_score": 0.9707070074660739,
          "issue_d": "2015-04-01T00:00:00",
          "loan_ID": 31555,
          "model_score": 0.9707654637262904,
          "precision_score": 0.9695233479763002,
          "roc_auc_score": 0.970769077817091
         },
         {
          "f1_score": 0.9690211751197861,
          "issue_d": "2015-05-01T00:00:00",
          "loan_ID": 28519,
          "model_score": 0.9689409368635438,
          "precision_score": 0.9690497044817206,
          "roc_auc_score": 0.9689408010458612
         },
         {
          "f1_score": 0.968081451200101,
          "issue_d": "2015-06-01T00:00:00",
          "loan_ID": 25293,
          "model_score": 0.9680055104744701,
          "precision_score": 0.9664550271957887,
          "roc_auc_score": 0.968004327271696
         },
         {
          "f1_score": 0.9680048029897261,
          "issue_d": "2015-07-01T00:00:00",
          "loan_ID": 40783,
          "model_score": 0.9680050188205772,
          "precision_score": 0.9659717407255323,
          "roc_auc_score": 0.9680093200235268
         },
         {
          "f1_score": 0.9661594855508682,
          "issue_d": "2015-08-01T00:00:00",
          "loan_ID": 31471,
          "model_score": 0.9660977779466188,
          "precision_score": 0.9649672080442865,
          "roc_auc_score": 0.9660970413694927
         },
         {
          "f1_score": 0.9661192171944747,
          "issue_d": "2015-09-01T00:00:00",
          "loan_ID": 24973,
          "model_score": 0.9660265477097161,
          "precision_score": 0.9655633607653658,
          "roc_auc_score": 0.9660251438391315
         },
         {
          "f1_score": 0.9649170964181214,
          "issue_d": "2015-10-01T00:00:00",
          "loan_ID": 42704,
          "model_score": 0.9649405413292478,
          "precision_score": 0.9639543974701564,
          "roc_auc_score": 0.9649421070084487
         },
         {
          "f1_score": 0.9652462596438597,
          "issue_d": "2015-11-01T00:00:00",
          "loan_ID": 31984,
          "model_score": 0.9653043303521044,
          "precision_score": 0.964735516372796,
          "roc_auc_score": 0.9653053249841994
         },
         {
          "f1_score": 0.9642001372248905,
          "issue_d": "2015-12-01T00:00:00",
          "loan_ID": 34403,
          "model_score": 0.9641569106142152,
          "precision_score": 0.963569522242265,
          "roc_auc_score": 0.9641565378539436
         },
         {
          "f1_score": 0.9631343294927899,
          "issue_d": "2016-01-01T00:00:00",
          "loan_ID": 21605,
          "model_score": 0.963098704434547,
          "precision_score": 0.962741571895342,
          "roc_auc_score": 0.9630984650862607
         },
         {
          "f1_score": 0.9615301657348986,
          "issue_d": "2016-02-01T00:00:00",
          "loan_ID": 25671,
          "model_score": 0.9615716090046806,
          "precision_score": 0.9607893654655086,
          "roc_auc_score": 0.9615729007888036
         },
         {
          "f1_score": 0.9597548597700485,
          "issue_d": "2016-03-01T00:00:00",
          "loan_ID": 37355,
          "model_score": 0.9597707659050433,
          "precision_score": 0.9604008646478683,
          "roc_auc_score": 0.9597709491596909
         },
         {
          "f1_score": 0.9582545070109059,
          "issue_d": "2016-04-01T00:00:00",
          "loan_ID": 22226,
          "model_score": 0.9582164363535104,
          "precision_score": 0.9579968663372304,
          "roc_auc_score": 0.9582162460622928
         },
         {
          "f1_score": 0.9567744047727315,
          "issue_d": "2016-05-01T00:00:00",
          "loan_ID": 15151,
          "model_score": 0.9568274095537409,
          "precision_score": 0.9565395281174706,
          "roc_auc_score": 0.9568276769514503
         },
         {
          "f1_score": 0.9566947884826518,
          "issue_d": "2016-06-01T00:00:00",
          "loan_ID": 19406,
          "model_score": 0.9566499088992251,
          "precision_score": 0.9562692771892182,
          "roc_auc_score": 0.9566496305456359
         },
         {
          "f1_score": 0.9553367695858708,
          "issue_d": "2016-07-01T00:00:00",
          "loan_ID": 20437,
          "model_score": 0.955318027024058,
          "precision_score": 0.9551333002516259,
          "roc_auc_score": 0.9553179811042839
         },
         {
          "f1_score": 0.9530539412823859,
          "issue_d": "2016-08-01T00:00:00",
          "loan_ID": 19289,
          "model_score": 0.9530529289357068,
          "precision_score": 0.9529861269831686,
          "roc_auc_score": 0.9530529323496315
         },
         {
          "f1_score": 0.9528157973690771,
          "issue_d": "2016-09-01T00:00:00",
          "loan_ID": 15912,
          "model_score": 0.9526763142113037,
          "precision_score": 0.952666846935154,
          "roc_auc_score": 0.9526755043937759
         },
         {
          "f1_score": 0.9523463639342687,
          "issue_d": "2016-10-01T00:00:00",
          "loan_ID": 17746,
          "model_score": 0.9523096333245602,
          "precision_score": 0.9529370976971884,
          "roc_auc_score": 0.9523104040906911
         },
         {
          "f1_score": 0.9516214386806966,
          "issue_d": "2016-11-01T00:00:00",
          "loan_ID": 16490,
          "model_score": 0.9515318651375072,
          "precision_score": 0.9510869119564416,
          "roc_auc_score": 0.9515310591988541
         },
         {
          "f1_score": 0.9503774900700402,
          "issue_d": "2016-12-01T00:00:00",
          "loan_ID": 18084,
          "model_score": 0.9502791972244332,
          "precision_score": 0.9494390190709283,
          "roc_auc_score": 0.9502781675484091
         },
         {
          "f1_score": 0.9494474835341126,
          "issue_d": "2017-01-01T00:00:00",
          "loan_ID": 15237,
          "model_score": 0.9494144180973025,
          "precision_score": 0.9483758723788822,
          "roc_auc_score": 0.9494149454921341
         },
         {
          "f1_score": 0.9487826807329436,
          "issue_d": "2017-02-01T00:00:00",
          "loan_ID": 11331,
          "model_score": 0.9486588123242464,
          "precision_score": 0.9491180594558716,
          "roc_auc_score": 0.9486593997506273
         },
         {
          "f1_score": 0.9486726283865593,
          "issue_d": "2017-03-01T00:00:00",
          "loan_ID": 15689,
          "model_score": 0.9486120097599763,
          "precision_score": 0.9479050371690091,
          "roc_auc_score": 0.9486117025104683
         },
         {
          "f1_score": 0.9482727464964725,
          "issue_d": "2017-04-01T00:00:00",
          "loan_ID": 12119,
          "model_score": 0.9482477752197854,
          "precision_score": 0.9473366826450345,
          "roc_auc_score": 0.948248262029199
         },
         {
          "f1_score": 0.9482884499844093,
          "issue_d": "2017-05-01T00:00:00",
          "loan_ID": 13980,
          "model_score": 0.9482065188412642,
          "precision_score": 0.9471395420380787,
          "roc_auc_score": 0.948206062924895
         },
         {
          "f1_score": 0.9479578974261673,
          "issue_d": "2017-06-01T00:00:00",
          "loan_ID": 13887,
          "model_score": 0.9478327514584534,
          "precision_score": 0.9455793785533056,
          "roc_auc_score": 0.947833045131588
         },
         {
          "f1_score": 0.946259365564543,
          "issue_d": "2017-07-01T00:00:00",
          "loan_ID": 13749,
          "model_score": 0.946301500481413,
          "precision_score": 0.9463193328685979,
          "roc_auc_score": 0.9463014269524924
         },
         {
          "f1_score": 0.9455572173893799,
          "issue_d": "2017-08-01T00:00:00",
          "loan_ID": 13397,
          "model_score": 0.94560546875,
          "precision_score": 0.9456636012527251,
          "roc_auc_score": 0.9456053491919814
         },
         {
          "f1_score": 0.9446512120559113,
          "issue_d": "2017-09-01T00:00:00",
          "loan_ID": 12041,
          "model_score": 0.9447340733001096,
          "precision_score": 0.9444890774837678,
          "roc_auc_score": 0.944734205438575
         },
         {
          "f1_score": 0.945183419988446,
          "issue_d": "2017-10-01T00:00:00",
          "loan_ID": 10751,
          "model_score": 0.9451228879342284,
          "precision_score": 0.9451015221095803,
          "roc_auc_score": 0.9451227428476171
         },
         {
          "f1_score": 0.944682145029156,
          "issue_d": "2017-11-01T00:00:00",
          "loan_ID": 10167,
          "model_score": 0.944561562013753,
          "precision_score": 0.9438211483817932,
          "roc_auc_score": 0.9445603161728727
         },
         {
          "f1_score": 0.9444364665273192,
          "issue_d": "2017-12-01T00:00:00",
          "loan_ID": 8645,
          "model_score": 0.9442481748708534,
          "precision_score": 0.942723356964122,
          "roc_auc_score": 0.9442451839466407
         },
         {
          "f1_score": 0.9427911477795279,
          "issue_d": "2018-01-01T00:00:00",
          "loan_ID": 7271,
          "model_score": 0.9427406911203531,
          "precision_score": 0.9433608866051518,
          "roc_auc_score": 0.9427414631332707
         },
         {
          "f1_score": 0.9436811499601683,
          "issue_d": "2018-02-01T00:00:00",
          "loan_ID": 5292,
          "model_score": 0.9435804676197658,
          "precision_score": 0.9424243592484465,
          "roc_auc_score": 0.9435798525679926
         },
         {
          "f1_score": 0.9434645906122892,
          "issue_d": "2018-03-01T00:00:00",
          "loan_ID": 5916,
          "model_score": 0.9433894535935352,
          "precision_score": 0.9430358285236858,
          "roc_auc_score": 0.9433890125804633
         },
         {
          "f1_score": 0.9429974615525528,
          "issue_d": "2018-04-01T00:00:00",
          "loan_ID": 5681,
          "model_score": 0.943036021570053,
          "precision_score": 0.9426175760704271,
          "roc_auc_score": 0.9430363898616253
         },
         {
          "f1_score": 0.9429969938230427,
          "issue_d": "2018-05-01T00:00:00",
          "loan_ID": 5112,
          "model_score": 0.9428702907799571,
          "precision_score": 0.9421595476908482,
          "roc_auc_score": 0.9428690029206739
         },
         {
          "f1_score": 0.9421583669628601,
          "issue_d": "2018-06-01T00:00:00",
          "loan_ID": 3508,
          "model_score": 0.9421417534825858,
          "precision_score": 0.941801594931631,
          "roc_auc_score": 0.9421417877451526
         },
         {
          "f1_score": 0.9430436041701141,
          "issue_d": "2018-07-01T00:00:00",
          "loan_ID": 3041,
          "model_score": 0.9429728274376605,
          "precision_score": 0.9420595315583382,
          "roc_auc_score": 0.9429726194475121
         },
         {
          "f1_score": 0.9425480574639988,
          "issue_d": "2018-08-01T00:00:00",
          "loan_ID": 2214,
          "model_score": 0.9425560714187309,
          "precision_score": 0.9424198275832377,
          "roc_auc_score": 0.9425561045429426
         },
         {
          "f1_score": 0.9429557513006748,
          "issue_d": "2018-09-01T00:00:00",
          "loan_ID": 1414,
          "model_score": 0.942882882573107,
          "precision_score": 0.9415169386915375,
          "roc_auc_score": 0.9428832656375338
         }
        ],
        "data-e85ec127eb05eacdc0cea8a5cf81f8fd": [
         {
          "issue_d": "2007-11-01T00:00:00",
          "value": 0.9848484848484849,
          "variable": "model_score"
         },
         {
          "issue_d": "2007-12-01T00:00:00",
          "value": 0.9880952380952381,
          "variable": "model_score"
         },
         {
          "issue_d": "2008-01-01T00:00:00",
          "value": 0.9435483870967742,
          "variable": "model_score"
         },
         {
          "issue_d": "2008-02-01T00:00:00",
          "value": 0.9615384615384616,
          "variable": "model_score"
         },
         {
          "issue_d": "2008-03-01T00:00:00",
          "value": 0.9629629629629629,
          "variable": "model_score"
         },
         {
          "issue_d": "2008-04-01T00:00:00",
          "value": 0.9710843373493976,
          "variable": "model_score"
         },
         {
          "issue_d": "2008-05-01T00:00:00",
          "value": 0.9796747967479674,
          "variable": "model_score"
         },
         {
          "issue_d": "2008-06-01T00:00:00",
          "value": 0.9753787878787878,
          "variable": "model_score"
         },
         {
          "issue_d": "2008-07-01T00:00:00",
          "value": 0.9804964539007093,
          "variable": "model_score"
         },
         {
          "issue_d": "2008-08-01T00:00:00",
          "value": 0.9817578772802653,
          "variable": "model_score"
         },
         {
          "issue_d": "2008-09-01T00:00:00",
          "value": 0.9828660436137072,
          "variable": "model_score"
         },
         {
          "issue_d": "2008-10-01T00:00:00",
          "value": 0.9666160849772383,
          "variable": "model_score"
         },
         {
          "issue_d": "2008-11-01T00:00:00",
          "value": 0.9646393210749646,
          "variable": "model_score"
         },
         {
          "issue_d": "2008-12-01T00:00:00",
          "value": 0.986232790988736,
          "variable": "model_score"
         },
         {
          "issue_d": "2009-01-01T00:00:00",
          "value": 0.9857612267250822,
          "variable": "model_score"
         },
         {
          "issue_d": "2009-02-01T00:00:00",
          "value": 0.9682692307692308,
          "variable": "model_score"
         },
         {
          "issue_d": "2009-03-01T00:00:00",
          "value": 0.9931914893617021,
          "variable": "model_score"
         },
         {
          "issue_d": "2009-04-01T00:00:00",
          "value": 0.9947049924357034,
          "variable": "model_score"
         },
         {
          "issue_d": "2009-05-01T00:00:00",
          "value": 0.9884510869565217,
          "variable": "model_score"
         },
         {
          "issue_d": "2009-06-01T00:00:00",
          "value": 0.9963369963369964,
          "variable": "model_score"
         },
         {
          "issue_d": "2009-07-01T00:00:00",
          "value": 0.9846659364731654,
          "variable": "model_score"
         },
         {
          "issue_d": "2009-08-01T00:00:00",
          "value": 0.9906033630069239,
          "variable": "model_score"
         },
         {
          "issue_d": "2009-09-01T00:00:00",
          "value": 0.990191707534552,
          "variable": "model_score"
         },
         {
          "issue_d": "2009-10-01T00:00:00",
          "value": 0.9891041162227603,
          "variable": "model_score"
         },
         {
          "issue_d": "2009-11-01T00:00:00",
          "value": 0.9920087177624409,
          "variable": "model_score"
         },
         {
          "issue_d": "2009-12-01T00:00:00",
          "value": 0.9928221859706362,
          "variable": "model_score"
         },
         {
          "issue_d": "2010-01-01T00:00:00",
          "value": 0.9949793266391022,
          "variable": "model_score"
         },
         {
          "issue_d": "2010-02-01T00:00:00",
          "value": 0.9962100703844071,
          "variable": "model_score"
         },
         {
          "issue_d": "2010-03-01T00:00:00",
          "value": 0.9913194444444444,
          "variable": "model_score"
         },
         {
          "issue_d": "2010-04-01T00:00:00",
          "value": 0.9936837356192195,
          "variable": "model_score"
         },
         {
          "issue_d": "2010-05-01T00:00:00",
          "value": 0.9932377049180328,
          "variable": "model_score"
         },
         {
          "issue_d": "2010-06-01T00:00:00",
          "value": 0.9934664924397983,
          "variable": "model_score"
         },
         {
          "issue_d": "2010-07-01T00:00:00",
          "value": 0.9867234042553191,
          "variable": "model_score"
         },
         {
          "issue_d": "2010-08-01T00:00:00",
          "value": 0.9928836633663366,
          "variable": "model_score"
         },
         {
          "issue_d": "2010-09-01T00:00:00",
          "value": 0.9907433779549986,
          "variable": "model_score"
         },
         {
          "issue_d": "2010-10-01T00:00:00",
          "value": 0.990487514863258,
          "variable": "model_score"
         },
         {
          "issue_d": "2010-11-01T00:00:00",
          "value": 0.9917821660738378,
          "variable": "model_score"
         },
         {
          "issue_d": "2010-12-01T00:00:00",
          "value": 0.9918764302059496,
          "variable": "model_score"
         },
         {
          "issue_d": "2011-01-01T00:00:00",
          "value": 0.9930968564146134,
          "variable": "model_score"
         },
         {
          "issue_d": "2011-02-01T00:00:00",
          "value": 0.9935846821950257,
          "variable": "model_score"
         },
         {
          "issue_d": "2011-03-01T00:00:00",
          "value": 0.9916736053288926,
          "variable": "model_score"
         },
         {
          "issue_d": "2011-04-01T00:00:00",
          "value": 0.9910837950138505,
          "variable": "model_score"
         },
         {
          "issue_d": "2011-05-01T00:00:00",
          "value": 0.991340940357692,
          "variable": "model_score"
         },
         {
          "issue_d": "2011-06-01T00:00:00",
          "value": 0.9909882620219613,
          "variable": "model_score"
         },
         {
          "issue_d": "2011-07-01T00:00:00",
          "value": 0.9897483031674208,
          "variable": "model_score"
         },
         {
          "issue_d": "2011-08-01T00:00:00",
          "value": 0.9900655672561097,
          "variable": "model_score"
         },
         {
          "issue_d": "2011-09-01T00:00:00",
          "value": 0.9908057402000373,
          "variable": "model_score"
         },
         {
          "issue_d": "2011-10-01T00:00:00",
          "value": 0.9900891972249752,
          "variable": "model_score"
         },
         {
          "issue_d": "2011-11-01T00:00:00",
          "value": 0.989526211888572,
          "variable": "model_score"
         },
         {
          "issue_d": "2011-12-01T00:00:00",
          "value": 0.9892090045435771,
          "variable": "model_score"
         },
         {
          "issue_d": "2012-01-01T00:00:00",
          "value": 0.9888617489008305,
          "variable": "model_score"
         },
         {
          "issue_d": "2012-02-01T00:00:00",
          "value": 0.9875959020535673,
          "variable": "model_score"
         },
         {
          "issue_d": "2012-03-01T00:00:00",
          "value": 0.9871155264413691,
          "variable": "model_score"
         },
         {
          "issue_d": "2012-04-01T00:00:00",
          "value": 0.9851220804630497,
          "variable": "model_score"
         },
         {
          "issue_d": "2012-05-01T00:00:00",
          "value": 0.986093069458241,
          "variable": "model_score"
         },
         {
          "issue_d": "2012-06-01T00:00:00",
          "value": 0.9851105051664754,
          "variable": "model_score"
         },
         {
          "issue_d": "2012-07-01T00:00:00",
          "value": 0.9843277056568238,
          "variable": "model_score"
         },
         {
          "issue_d": "2012-08-01T00:00:00",
          "value": 0.9841656516443362,
          "variable": "model_score"
         },
         {
          "issue_d": "2012-09-01T00:00:00",
          "value": 0.9830166954519286,
          "variable": "model_score"
         },
         {
          "issue_d": "2012-10-01T00:00:00",
          "value": 0.9829195420533566,
          "variable": "model_score"
         },
         {
          "issue_d": "2012-11-01T00:00:00",
          "value": 0.9829520511194576,
          "variable": "model_score"
         },
         {
          "issue_d": "2012-12-01T00:00:00",
          "value": 0.9820418871850545,
          "variable": "model_score"
         },
         {
          "issue_d": "2013-01-01T00:00:00",
          "value": 0.9843987823439878,
          "variable": "model_score"
         },
         {
          "issue_d": "2013-02-01T00:00:00",
          "value": 0.9833454731578637,
          "variable": "model_score"
         },
         {
          "issue_d": "2013-03-01T00:00:00",
          "value": 0.9825030198762765,
          "variable": "model_score"
         },
         {
          "issue_d": "2013-04-01T00:00:00",
          "value": 0.9827618416806779,
          "variable": "model_score"
         },
         {
          "issue_d": "2013-05-01T00:00:00",
          "value": 0.9820839226779821,
          "variable": "model_score"
         },
         {
          "issue_d": "2013-06-01T00:00:00",
          "value": 0.9818044413440298,
          "variable": "model_score"
         },
         {
          "issue_d": "2013-07-01T00:00:00",
          "value": 0.981639767939589,
          "variable": "model_score"
         },
         {
          "issue_d": "2013-08-01T00:00:00",
          "value": 0.98301877396544,
          "variable": "model_score"
         },
         {
          "issue_d": "2013-09-01T00:00:00",
          "value": 0.9821119845093474,
          "variable": "model_score"
         },
         {
          "issue_d": "2013-10-01T00:00:00",
          "value": 0.9826285444842146,
          "variable": "model_score"
         },
         {
          "issue_d": "2013-11-01T00:00:00",
          "value": 0.9817489880177261,
          "variable": "model_score"
         },
         {
          "issue_d": "2013-12-01T00:00:00",
          "value": 0.9823314588281683,
          "variable": "model_score"
         },
         {
          "issue_d": "2014-01-01T00:00:00",
          "value": 0.9820637635398851,
          "variable": "model_score"
         },
         {
          "issue_d": "2014-02-01T00:00:00",
          "value": 0.9814343908159486,
          "variable": "model_score"
         },
         {
          "issue_d": "2014-03-01T00:00:00",
          "value": 0.9821621411645884,
          "variable": "model_score"
         },
         {
          "issue_d": "2014-04-01T00:00:00",
          "value": 0.9802833625295932,
          "variable": "model_score"
         },
         {
          "issue_d": "2014-05-01T00:00:00",
          "value": 0.9801620910712195,
          "variable": "model_score"
         },
         {
          "issue_d": "2014-06-01T00:00:00",
          "value": 0.9786812644484272,
          "variable": "model_score"
         },
         {
          "issue_d": "2014-07-01T00:00:00",
          "value": 0.9781791425002783,
          "variable": "model_score"
         },
         {
          "issue_d": "2014-08-01T00:00:00",
          "value": 0.9763263906745522,
          "variable": "model_score"
         },
         {
          "issue_d": "2014-09-01T00:00:00",
          "value": 0.975254833806408,
          "variable": "model_score"
         },
         {
          "issue_d": "2014-10-01T00:00:00",
          "value": 0.9754643247777931,
          "variable": "model_score"
         },
         {
          "issue_d": "2014-11-01T00:00:00",
          "value": 0.973681892476486,
          "variable": "model_score"
         },
         {
          "issue_d": "2014-12-01T00:00:00",
          "value": 0.9724849926589477,
          "variable": "model_score"
         },
         {
          "issue_d": "2015-01-01T00:00:00",
          "value": 0.9742669142139464,
          "variable": "model_score"
         },
         {
          "issue_d": "2015-02-01T00:00:00",
          "value": 0.9705992493425364,
          "variable": "model_score"
         },
         {
          "issue_d": "2015-03-01T00:00:00",
          "value": 0.9709684125567118,
          "variable": "model_score"
         },
         {
          "issue_d": "2015-04-01T00:00:00",
          "value": 0.9707654637262904,
          "variable": "model_score"
         },
         {
          "issue_d": "2015-05-01T00:00:00",
          "value": 0.9689409368635438,
          "variable": "model_score"
         },
         {
          "issue_d": "2015-06-01T00:00:00",
          "value": 0.9680055104744701,
          "variable": "model_score"
         },
         {
          "issue_d": "2015-07-01T00:00:00",
          "value": 0.9680050188205772,
          "variable": "model_score"
         },
         {
          "issue_d": "2015-08-01T00:00:00",
          "value": 0.9660977779466188,
          "variable": "model_score"
         },
         {
          "issue_d": "2015-09-01T00:00:00",
          "value": 0.9660265477097161,
          "variable": "model_score"
         },
         {
          "issue_d": "2015-10-01T00:00:00",
          "value": 0.9649405413292478,
          "variable": "model_score"
         },
         {
          "issue_d": "2015-11-01T00:00:00",
          "value": 0.9653043303521044,
          "variable": "model_score"
         },
         {
          "issue_d": "2015-12-01T00:00:00",
          "value": 0.9641569106142152,
          "variable": "model_score"
         },
         {
          "issue_d": "2016-01-01T00:00:00",
          "value": 0.963098704434547,
          "variable": "model_score"
         },
         {
          "issue_d": "2016-02-01T00:00:00",
          "value": 0.9615716090046806,
          "variable": "model_score"
         },
         {
          "issue_d": "2016-03-01T00:00:00",
          "value": 0.9597707659050433,
          "variable": "model_score"
         },
         {
          "issue_d": "2016-04-01T00:00:00",
          "value": 0.9582164363535104,
          "variable": "model_score"
         },
         {
          "issue_d": "2016-05-01T00:00:00",
          "value": 0.9568274095537409,
          "variable": "model_score"
         },
         {
          "issue_d": "2016-06-01T00:00:00",
          "value": 0.9566499088992251,
          "variable": "model_score"
         },
         {
          "issue_d": "2016-07-01T00:00:00",
          "value": 0.955318027024058,
          "variable": "model_score"
         },
         {
          "issue_d": "2016-08-01T00:00:00",
          "value": 0.9530529289357068,
          "variable": "model_score"
         },
         {
          "issue_d": "2016-09-01T00:00:00",
          "value": 0.9526763142113037,
          "variable": "model_score"
         },
         {
          "issue_d": "2016-10-01T00:00:00",
          "value": 0.9523096333245602,
          "variable": "model_score"
         },
         {
          "issue_d": "2016-11-01T00:00:00",
          "value": 0.9515318651375072,
          "variable": "model_score"
         },
         {
          "issue_d": "2016-12-01T00:00:00",
          "value": 0.9502791972244332,
          "variable": "model_score"
         },
         {
          "issue_d": "2017-01-01T00:00:00",
          "value": 0.9494144180973025,
          "variable": "model_score"
         },
         {
          "issue_d": "2017-02-01T00:00:00",
          "value": 0.9486588123242464,
          "variable": "model_score"
         },
         {
          "issue_d": "2017-03-01T00:00:00",
          "value": 0.9486120097599763,
          "variable": "model_score"
         },
         {
          "issue_d": "2017-04-01T00:00:00",
          "value": 0.9482477752197854,
          "variable": "model_score"
         },
         {
          "issue_d": "2017-05-01T00:00:00",
          "value": 0.9482065188412642,
          "variable": "model_score"
         },
         {
          "issue_d": "2017-06-01T00:00:00",
          "value": 0.9478327514584534,
          "variable": "model_score"
         },
         {
          "issue_d": "2017-07-01T00:00:00",
          "value": 0.946301500481413,
          "variable": "model_score"
         },
         {
          "issue_d": "2017-08-01T00:00:00",
          "value": 0.94560546875,
          "variable": "model_score"
         },
         {
          "issue_d": "2017-09-01T00:00:00",
          "value": 0.9447340733001096,
          "variable": "model_score"
         },
         {
          "issue_d": "2017-10-01T00:00:00",
          "value": 0.9451228879342284,
          "variable": "model_score"
         },
         {
          "issue_d": "2017-11-01T00:00:00",
          "value": 0.944561562013753,
          "variable": "model_score"
         },
         {
          "issue_d": "2017-12-01T00:00:00",
          "value": 0.9442481748708534,
          "variable": "model_score"
         },
         {
          "issue_d": "2018-01-01T00:00:00",
          "value": 0.9427406911203531,
          "variable": "model_score"
         },
         {
          "issue_d": "2018-02-01T00:00:00",
          "value": 0.9435804676197658,
          "variable": "model_score"
         },
         {
          "issue_d": "2018-03-01T00:00:00",
          "value": 0.9433894535935352,
          "variable": "model_score"
         },
         {
          "issue_d": "2018-04-01T00:00:00",
          "value": 0.943036021570053,
          "variable": "model_score"
         },
         {
          "issue_d": "2018-05-01T00:00:00",
          "value": 0.9428702907799571,
          "variable": "model_score"
         },
         {
          "issue_d": "2018-06-01T00:00:00",
          "value": 0.9421417534825858,
          "variable": "model_score"
         },
         {
          "issue_d": "2018-07-01T00:00:00",
          "value": 0.9429728274376605,
          "variable": "model_score"
         },
         {
          "issue_d": "2018-08-01T00:00:00",
          "value": 0.9425560714187309,
          "variable": "model_score"
         },
         {
          "issue_d": "2018-09-01T00:00:00",
          "value": 0.942882882573107,
          "variable": "model_score"
         },
         {
          "issue_d": "2007-11-01T00:00:00",
          "value": 1,
          "variable": "precision_score"
         },
         {
          "issue_d": "2007-12-01T00:00:00",
          "value": 1,
          "variable": "precision_score"
         },
         {
          "issue_d": "2008-01-01T00:00:00",
          "value": 0.9272727272727272,
          "variable": "precision_score"
         },
         {
          "issue_d": "2008-02-01T00:00:00",
          "value": 0.9385964912280702,
          "variable": "precision_score"
         },
         {
          "issue_d": "2008-03-01T00:00:00",
          "value": 0.9629629629629629,
          "variable": "precision_score"
         },
         {
          "issue_d": "2008-04-01T00:00:00",
          "value": 0.9792746113989638,
          "variable": "precision_score"
         },
         {
          "issue_d": "2008-05-01T00:00:00",
          "value": 0.9803149606299213,
          "variable": "precision_score"
         },
         {
          "issue_d": "2008-06-01T00:00:00",
          "value": 0.9812734082397003,
          "variable": "precision_score"
         },
         {
          "issue_d": "2008-07-01T00:00:00",
          "value": 0.9787985865724381,
          "variable": "precision_score"
         },
         {
          "issue_d": "2008-08-01T00:00:00",
          "value": 0.993127147766323,
          "variable": "precision_score"
         },
         {
          "issue_d": "2008-09-01T00:00:00",
          "value": 0.9867549668874173,
          "variable": "precision_score"
         },
         {
          "issue_d": "2008-10-01T00:00:00",
          "value": 0.9666666666666667,
          "variable": "precision_score"
         },
         {
          "issue_d": "2008-11-01T00:00:00",
          "value": 0.9606741573033708,
          "variable": "precision_score"
         },
         {
          "issue_d": "2008-12-01T00:00:00",
          "value": 0.9876847290640394,
          "variable": "precision_score"
         },
         {
          "issue_d": "2009-01-01T00:00:00",
          "value": 0.9758241758241758,
          "variable": "precision_score"
         },
         {
          "issue_d": "2009-02-01T00:00:00",
          "value": 0.980544747081712,
          "variable": "precision_score"
         },
         {
          "issue_d": "2009-03-01T00:00:00",
          "value": 0.9913194444444444,
          "variable": "precision_score"
         },
         {
          "issue_d": "2009-04-01T00:00:00",
          "value": 0.9969742813918305,
          "variable": "precision_score"
         },
         {
          "issue_d": "2009-05-01T00:00:00",
          "value": 0.986449864498645,
          "variable": "precision_score"
         },
         {
          "issue_d": "2009-06-01T00:00:00",
          "value": 0.9976019184652278,
          "variable": "precision_score"
         },
         {
          "issue_d": "2009-07-01T00:00:00",
          "value": 0.9734806629834254,
          "variable": "precision_score"
         },
         {
          "issue_d": "2009-08-01T00:00:00",
          "value": 0.9869215291750503,
          "variable": "precision_score"
         },
         {
          "issue_d": "2009-09-01T00:00:00",
          "value": 0.9845360824742269,
          "variable": "precision_score"
         },
         {
          "issue_d": "2009-10-01T00:00:00",
          "value": 0.9917898193760263,
          "variable": "precision_score"
         },
         {
          "issue_d": "2009-11-01T00:00:00",
          "value": 0.9941176470588236,
          "variable": "precision_score"
         },
         {
          "issue_d": "2009-12-01T00:00:00",
          "value": 0.9940476190476191,
          "variable": "precision_score"
         },
         {
          "issue_d": "2010-01-01T00:00:00",
          "value": 0.9931467732724157,
          "variable": "precision_score"
         },
         {
          "issue_d": "2010-02-01T00:00:00",
          "value": 0.9956260251503554,
          "variable": "precision_score"
         },
         {
          "issue_d": "2010-03-01T00:00:00",
          "value": 0.9900744416873449,
          "variable": "precision_score"
         },
         {
          "issue_d": "2010-04-01T00:00:00",
          "value": 0.992133271633503,
          "variable": "precision_score"
         },
         {
          "issue_d": "2010-05-01T00:00:00",
          "value": 0.9907949790794979,
          "variable": "precision_score"
         },
         {
          "issue_d": "2010-06-01T00:00:00",
          "value": 0.9914561664190193,
          "variable": "precision_score"
         },
         {
          "issue_d": "2010-07-01T00:00:00",
          "value": 0.9848024316109423,
          "variable": "precision_score"
         },
         {
          "issue_d": "2010-08-01T00:00:00",
          "value": 0.9889264841587204,
          "variable": "precision_score"
         },
         {
          "issue_d": "2010-09-01T00:00:00",
          "value": 0.9916434540389972,
          "variable": "precision_score"
         },
         {
          "issue_d": "2010-10-01T00:00:00",
          "value": 0.9909622541201488,
          "variable": "precision_score"
         },
         {
          "issue_d": "2010-11-01T00:00:00",
          "value": 0.9892604344642422,
          "variable": "precision_score"
         },
         {
          "issue_d": "2010-12-01T00:00:00",
          "value": 0.9908193711269222,
          "variable": "precision_score"
         },
         {
          "issue_d": "2011-01-01T00:00:00",
          "value": 0.9933146430882036,
          "variable": "precision_score"
         },
         {
          "issue_d": "2011-02-01T00:00:00",
          "value": 0.9918570009930486,
          "variable": "precision_score"
         },
         {
          "issue_d": "2011-03-01T00:00:00",
          "value": 0.991869918699187,
          "variable": "precision_score"
         },
         {
          "issue_d": "2011-04-01T00:00:00",
          "value": 0.9898816669524952,
          "variable": "precision_score"
         },
         {
          "issue_d": "2011-05-01T00:00:00",
          "value": 0.9890393294648614,
          "variable": "precision_score"
         },
         {
          "issue_d": "2011-06-01T00:00:00",
          "value": 0.9887861797242007,
          "variable": "precision_score"
         },
         {
          "issue_d": "2011-07-01T00:00:00",
          "value": 0.9900112549240293,
          "variable": "precision_score"
         },
         {
          "issue_d": "2011-08-01T00:00:00",
          "value": 0.9906691548920288,
          "variable": "precision_score"
         },
         {
          "issue_d": "2011-09-01T00:00:00",
          "value": 0.9891615796686184,
          "variable": "precision_score"
         },
         {
          "issue_d": "2011-10-01T00:00:00",
          "value": 0.9907893202751544,
          "variable": "precision_score"
         },
         {
          "issue_d": "2011-11-01T00:00:00",
          "value": 0.9888138221286964,
          "variable": "precision_score"
         },
         {
          "issue_d": "2011-12-01T00:00:00",
          "value": 0.9875257731958763,
          "variable": "precision_score"
         },
         {
          "issue_d": "2012-01-01T00:00:00",
          "value": 0.9885518590998043,
          "variable": "precision_score"
         },
         {
          "issue_d": "2012-02-01T00:00:00",
          "value": 0.9881401121632803,
          "variable": "precision_score"
         },
         {
          "issue_d": "2012-03-01T00:00:00",
          "value": 0.9867401412088859,
          "variable": "precision_score"
         },
         {
          "issue_d": "2012-04-01T00:00:00",
          "value": 0.9844065605558697,
          "variable": "precision_score"
         },
         {
          "issue_d": "2012-05-01T00:00:00",
          "value": 0.9843476939442292,
          "variable": "precision_score"
         },
         {
          "issue_d": "2012-06-01T00:00:00",
          "value": 0.984059740073239,
          "variable": "precision_score"
         },
         {
          "issue_d": "2012-07-01T00:00:00",
          "value": 0.9845495284596348,
          "variable": "precision_score"
         },
         {
          "issue_d": "2012-08-01T00:00:00",
          "value": 0.9826596806387226,
          "variable": "precision_score"
         },
         {
          "issue_d": "2012-09-01T00:00:00",
          "value": 0.9834463731463386,
          "variable": "precision_score"
         },
         {
          "issue_d": "2012-10-01T00:00:00",
          "value": 0.9804895909613977,
          "variable": "precision_score"
         },
         {
          "issue_d": "2012-11-01T00:00:00",
          "value": 0.9821133469427432,
          "variable": "precision_score"
         },
         {
          "issue_d": "2012-12-01T00:00:00",
          "value": 0.9805226935360533,
          "variable": "precision_score"
         },
         {
          "issue_d": "2013-01-01T00:00:00",
          "value": 0.9822317886384738,
          "variable": "precision_score"
         },
         {
          "issue_d": "2013-02-01T00:00:00",
          "value": 0.9825199436884092,
          "variable": "precision_score"
         },
         {
          "issue_d": "2013-03-01T00:00:00",
          "value": 0.9811306955313391,
          "variable": "precision_score"
         },
         {
          "issue_d": "2013-04-01T00:00:00",
          "value": 0.9811817966823203,
          "variable": "precision_score"
         },
         {
          "issue_d": "2013-05-01T00:00:00",
          "value": 0.9806583713970703,
          "variable": "precision_score"
         },
         {
          "issue_d": "2013-06-01T00:00:00",
          "value": 0.9800713601949351,
          "variable": "precision_score"
         },
         {
          "issue_d": "2013-07-01T00:00:00",
          "value": 0.9814819784761547,
          "variable": "precision_score"
         },
         {
          "issue_d": "2013-08-01T00:00:00",
          "value": 0.9814520139234212,
          "variable": "precision_score"
         },
         {
          "issue_d": "2013-09-01T00:00:00",
          "value": 0.9800151435192621,
          "variable": "precision_score"
         },
         {
          "issue_d": "2013-10-01T00:00:00",
          "value": 0.9810845431255337,
          "variable": "precision_score"
         },
         {
          "issue_d": "2013-11-01T00:00:00",
          "value": 0.9789104399370943,
          "variable": "precision_score"
         },
         {
          "issue_d": "2013-12-01T00:00:00",
          "value": 0.9810873822624265,
          "variable": "precision_score"
         },
         {
          "issue_d": "2014-01-01T00:00:00",
          "value": 0.9795975307780839,
          "variable": "precision_score"
         },
         {
          "issue_d": "2014-02-01T00:00:00",
          "value": 0.9797657956542447,
          "variable": "precision_score"
         },
         {
          "issue_d": "2014-03-01T00:00:00",
          "value": 0.9801143425304499,
          "variable": "precision_score"
         },
         {
          "issue_d": "2014-04-01T00:00:00",
          "value": 0.977647314633616,
          "variable": "precision_score"
         },
         {
          "issue_d": "2014-05-01T00:00:00",
          "value": 0.9783095765006666,
          "variable": "precision_score"
         },
         {
          "issue_d": "2014-06-01T00:00:00",
          "value": 0.9774803840594672,
          "variable": "precision_score"
         },
         {
          "issue_d": "2014-07-01T00:00:00",
          "value": 0.9768312747096236,
          "variable": "precision_score"
         },
         {
          "issue_d": "2014-08-01T00:00:00",
          "value": 0.9747312927488808,
          "variable": "precision_score"
         },
         {
          "issue_d": "2014-09-01T00:00:00",
          "value": 0.9734299516908212,
          "variable": "precision_score"
         },
         {
          "issue_d": "2014-10-01T00:00:00",
          "value": 0.9735342105820779,
          "variable": "precision_score"
         },
         {
          "issue_d": "2014-11-01T00:00:00",
          "value": 0.9724756289538783,
          "variable": "precision_score"
         },
         {
          "issue_d": "2014-12-01T00:00:00",
          "value": 0.9705898689180182,
          "variable": "precision_score"
         },
         {
          "issue_d": "2015-01-01T00:00:00",
          "value": 0.9728538051037755,
          "variable": "precision_score"
         },
         {
          "issue_d": "2015-02-01T00:00:00",
          "value": 0.9694689551503622,
          "variable": "precision_score"
         },
         {
          "issue_d": "2015-03-01T00:00:00",
          "value": 0.97015010373022,
          "variable": "precision_score"
         },
         {
          "issue_d": "2015-04-01T00:00:00",
          "value": 0.9695233479763002,
          "variable": "precision_score"
         },
         {
          "issue_d": "2015-05-01T00:00:00",
          "value": 0.9690497044817206,
          "variable": "precision_score"
         },
         {
          "issue_d": "2015-06-01T00:00:00",
          "value": 0.9664550271957887,
          "variable": "precision_score"
         },
         {
          "issue_d": "2015-07-01T00:00:00",
          "value": 0.9659717407255323,
          "variable": "precision_score"
         },
         {
          "issue_d": "2015-08-01T00:00:00",
          "value": 0.9649672080442865,
          "variable": "precision_score"
         },
         {
          "issue_d": "2015-09-01T00:00:00",
          "value": 0.9655633607653658,
          "variable": "precision_score"
         },
         {
          "issue_d": "2015-10-01T00:00:00",
          "value": 0.9639543974701564,
          "variable": "precision_score"
         },
         {
          "issue_d": "2015-11-01T00:00:00",
          "value": 0.964735516372796,
          "variable": "precision_score"
         },
         {
          "issue_d": "2015-12-01T00:00:00",
          "value": 0.963569522242265,
          "variable": "precision_score"
         },
         {
          "issue_d": "2016-01-01T00:00:00",
          "value": 0.962741571895342,
          "variable": "precision_score"
         },
         {
          "issue_d": "2016-02-01T00:00:00",
          "value": 0.9607893654655086,
          "variable": "precision_score"
         },
         {
          "issue_d": "2016-03-01T00:00:00",
          "value": 0.9604008646478683,
          "variable": "precision_score"
         },
         {
          "issue_d": "2016-04-01T00:00:00",
          "value": 0.9579968663372304,
          "variable": "precision_score"
         },
         {
          "issue_d": "2016-05-01T00:00:00",
          "value": 0.9565395281174706,
          "variable": "precision_score"
         },
         {
          "issue_d": "2016-06-01T00:00:00",
          "value": 0.9562692771892182,
          "variable": "precision_score"
         },
         {
          "issue_d": "2016-07-01T00:00:00",
          "value": 0.9551333002516259,
          "variable": "precision_score"
         },
         {
          "issue_d": "2016-08-01T00:00:00",
          "value": 0.9529861269831686,
          "variable": "precision_score"
         },
         {
          "issue_d": "2016-09-01T00:00:00",
          "value": 0.952666846935154,
          "variable": "precision_score"
         },
         {
          "issue_d": "2016-10-01T00:00:00",
          "value": 0.9529370976971884,
          "variable": "precision_score"
         },
         {
          "issue_d": "2016-11-01T00:00:00",
          "value": 0.9510869119564416,
          "variable": "precision_score"
         },
         {
          "issue_d": "2016-12-01T00:00:00",
          "value": 0.9494390190709283,
          "variable": "precision_score"
         },
         {
          "issue_d": "2017-01-01T00:00:00",
          "value": 0.9483758723788822,
          "variable": "precision_score"
         },
         {
          "issue_d": "2017-02-01T00:00:00",
          "value": 0.9491180594558716,
          "variable": "precision_score"
         },
         {
          "issue_d": "2017-03-01T00:00:00",
          "value": 0.9479050371690091,
          "variable": "precision_score"
         },
         {
          "issue_d": "2017-04-01T00:00:00",
          "value": 0.9473366826450345,
          "variable": "precision_score"
         },
         {
          "issue_d": "2017-05-01T00:00:00",
          "value": 0.9471395420380787,
          "variable": "precision_score"
         },
         {
          "issue_d": "2017-06-01T00:00:00",
          "value": 0.9455793785533056,
          "variable": "precision_score"
         },
         {
          "issue_d": "2017-07-01T00:00:00",
          "value": 0.9463193328685979,
          "variable": "precision_score"
         },
         {
          "issue_d": "2017-08-01T00:00:00",
          "value": 0.9456636012527251,
          "variable": "precision_score"
         },
         {
          "issue_d": "2017-09-01T00:00:00",
          "value": 0.9444890774837678,
          "variable": "precision_score"
         },
         {
          "issue_d": "2017-10-01T00:00:00",
          "value": 0.9451015221095803,
          "variable": "precision_score"
         },
         {
          "issue_d": "2017-11-01T00:00:00",
          "value": 0.9438211483817932,
          "variable": "precision_score"
         },
         {
          "issue_d": "2017-12-01T00:00:00",
          "value": 0.942723356964122,
          "variable": "precision_score"
         },
         {
          "issue_d": "2018-01-01T00:00:00",
          "value": 0.9433608866051518,
          "variable": "precision_score"
         },
         {
          "issue_d": "2018-02-01T00:00:00",
          "value": 0.9424243592484465,
          "variable": "precision_score"
         },
         {
          "issue_d": "2018-03-01T00:00:00",
          "value": 0.9430358285236858,
          "variable": "precision_score"
         },
         {
          "issue_d": "2018-04-01T00:00:00",
          "value": 0.9426175760704271,
          "variable": "precision_score"
         },
         {
          "issue_d": "2018-05-01T00:00:00",
          "value": 0.9421595476908482,
          "variable": "precision_score"
         },
         {
          "issue_d": "2018-06-01T00:00:00",
          "value": 0.941801594931631,
          "variable": "precision_score"
         },
         {
          "issue_d": "2018-07-01T00:00:00",
          "value": 0.9420595315583382,
          "variable": "precision_score"
         },
         {
          "issue_d": "2018-08-01T00:00:00",
          "value": 0.9424198275832377,
          "variable": "precision_score"
         },
         {
          "issue_d": "2018-09-01T00:00:00",
          "value": 0.9415169386915375,
          "variable": "precision_score"
         },
         {
          "issue_d": "2007-11-01T00:00:00",
          "value": 0.9841269841269841,
          "variable": "f1_score"
         },
         {
          "issue_d": "2007-12-01T00:00:00",
          "value": 0.989010989010989,
          "variable": "f1_score"
         },
         {
          "issue_d": "2008-01-01T00:00:00",
          "value": 0.9357798165137615,
          "variable": "f1_score"
         },
         {
          "issue_d": "2008-02-01T00:00:00",
          "value": 0.9639639639639639,
          "variable": "f1_score"
         },
         {
          "issue_d": "2008-03-01T00:00:00",
          "value": 0.959409594095941,
          "variable": "f1_score"
         },
         {
          "issue_d": "2008-04-01T00:00:00",
          "value": 0.9692307692307692,
          "variable": "f1_score"
         },
         {
          "issue_d": "2008-05-01T00:00:00",
          "value": 0.9803149606299214,
          "variable": "f1_score"
         },
         {
          "issue_d": "2008-06-01T00:00:00",
          "value": 0.9757914338919925,
          "variable": "f1_score"
         },
         {
          "issue_d": "2008-07-01T00:00:00",
          "value": 0.9805309734513273,
          "variable": "f1_score"
         },
         {
          "issue_d": "2008-08-01T00:00:00",
          "value": 0.9813242784380305,
          "variable": "f1_score"
         },
         {
          "issue_d": "2008-09-01T00:00:00",
          "value": 0.9818780889621087,
          "variable": "f1_score"
         },
         {
          "issue_d": "2008-10-01T00:00:00",
          "value": 0.9666666666666667,
          "variable": "f1_score"
         },
         {
          "issue_d": "2008-11-01T00:00:00",
          "value": 0.9647390691114245,
          "variable": "f1_score"
         },
         {
          "issue_d": "2008-12-01T00:00:00",
          "value": 0.986469864698647,
          "variable": "f1_score"
         },
         {
          "issue_d": "2009-01-01T00:00:00",
          "value": 0.9855715871254163,
          "variable": "f1_score"
         },
         {
          "issue_d": "2009-02-01T00:00:00",
          "value": 0.9682997118155621,
          "variable": "f1_score"
         },
         {
          "issue_d": "2009-03-01T00:00:00",
          "value": 0.9930434782608696,
          "variable": "f1_score"
         },
         {
          "issue_d": "2009-04-01T00:00:00",
          "value": 0.9947169811320754,
          "variable": "f1_score"
         },
         {
          "issue_d": "2009-05-01T00:00:00",
          "value": 0.988458927359131,
          "variable": "f1_score"
         },
         {
          "issue_d": "2009-06-01T00:00:00",
          "value": 0.9964071856287425,
          "variable": "f1_score"
         },
         {
          "issue_d": "2009-07-01T00:00:00",
          "value": 0.9843575418994414,
          "variable": "f1_score"
         },
         {
          "issue_d": "2009-08-01T00:00:00",
          "value": 0.9904088844018173,
          "variable": "f1_score"
         },
         {
          "issue_d": "2009-09-01T00:00:00",
          "value": 0.9904926534140017,
          "variable": "f1_score"
         },
         {
          "issue_d": "2009-10-01T00:00:00",
          "value": 0.9889480147359804,
          "variable": "f1_score"
         },
         {
          "issue_d": "2009-11-01T00:00:00",
          "value": 0.9919295671313278,
          "variable": "f1_score"
         },
         {
          "issue_d": "2009-12-01T00:00:00",
          "value": 0.9927344782034345,
          "variable": "f1_score"
         },
         {
          "issue_d": "2010-01-01T00:00:00",
          "value": 0.9951359084406295,
          "variable": "f1_score"
         },
         {
          "issue_d": "2010-02-01T00:00:00",
          "value": 0.9961706783369803,
          "variable": "f1_score"
         },
         {
          "issue_d": "2010-03-01T00:00:00",
          "value": 0.991304347826087,
          "variable": "f1_score"
         },
         {
          "issue_d": "2010-04-01T00:00:00",
          "value": 0.9935125115848007,
          "variable": "f1_score"
         },
         {
          "issue_d": "2010-05-01T00:00:00",
          "value": 0.9930803103375969,
          "variable": "f1_score"
         },
         {
          "issue_d": "2010-06-01T00:00:00",
          "value": 0.9934859482598176,
          "variable": "f1_score"
         },
         {
          "issue_d": "2010-07-01T00:00:00",
          "value": 0.9868020304568528,
          "variable": "f1_score"
         },
         {
          "issue_d": "2010-08-01T00:00:00",
          "value": 0.9928968499073502,
          "variable": "f1_score"
         },
         {
          "issue_d": "2010-09-01T00:00:00",
          "value": 0.9909533750869868,
          "variable": "f1_score"
         },
         {
          "issue_d": "2010-10-01T00:00:00",
          "value": 0.9904357066950052,
          "variable": "f1_score"
         },
         {
          "issue_d": "2010-11-01T00:00:00",
          "value": 0.9918022757861251,
          "variable": "f1_score"
         },
         {
          "issue_d": "2010-12-01T00:00:00",
          "value": 0.9918437679494543,
          "variable": "f1_score"
         },
         {
          "issue_d": "2011-01-01T00:00:00",
          "value": 0.9929934245984694,
          "variable": "f1_score"
         },
         {
          "issue_d": "2011-02-01T00:00:00",
          "value": 0.9935342683775988,
          "variable": "f1_score"
         },
         {
          "issue_d": "2011-03-01T00:00:00",
          "value": 0.9916866802142988,
          "variable": "f1_score"
         },
         {
          "issue_d": "2011-04-01T00:00:00",
          "value": 0.9911565209925303,
          "variable": "f1_score"
         },
         {
          "issue_d": "2011-05-01T00:00:00",
          "value": 0.9913563292673077,
          "variable": "f1_score"
         },
         {
          "issue_d": "2011-06-01T00:00:00",
          "value": 0.990963626699066,
          "variable": "f1_score"
         },
         {
          "issue_d": "2011-07-01T00:00:00",
          "value": 0.989802377101062,
          "variable": "f1_score"
         },
         {
          "issue_d": "2011-08-01T00:00:00",
          "value": 0.990009324630345,
          "variable": "f1_score"
         },
         {
          "issue_d": "2011-09-01T00:00:00",
          "value": 0.9907661592213626,
          "variable": "f1_score"
         },
         {
          "issue_d": "2011-10-01T00:00:00",
          "value": 0.9900967027845741,
          "variable": "f1_score"
         },
         {
          "issue_d": "2011-11-01T00:00:00",
          "value": 0.9894165235219149,
          "variable": "f1_score"
         },
         {
          "issue_d": "2011-12-01T00:00:00",
          "value": 0.9892084473589096,
          "variable": "f1_score"
         },
         {
          "issue_d": "2012-01-01T00:00:00",
          "value": 0.9888421258686503,
          "variable": "f1_score"
         },
         {
          "issue_d": "2012-02-01T00:00:00",
          "value": 0.9875953321694386,
          "variable": "f1_score"
         },
         {
          "issue_d": "2012-03-01T00:00:00",
          "value": 0.9872076495671276,
          "variable": "f1_score"
         },
         {
          "issue_d": "2012-04-01T00:00:00",
          "value": 0.9852423887114382,
          "variable": "f1_score"
         },
         {
          "issue_d": "2012-05-01T00:00:00",
          "value": 0.9861459998477582,
          "variable": "f1_score"
         },
         {
          "issue_d": "2012-06-01T00:00:00",
          "value": 0.9850853548966757,
          "variable": "f1_score"
         },
         {
          "issue_d": "2012-07-01T00:00:00",
          "value": 0.9844178425733967,
          "variable": "f1_score"
         },
         {
          "issue_d": "2012-08-01T00:00:00",
          "value": 0.9841636732781509,
          "variable": "f1_score"
         },
         {
          "issue_d": "2012-09-01T00:00:00",
          "value": 0.9830508474576272,
          "variable": "f1_score"
         },
         {
          "issue_d": "2012-10-01T00:00:00",
          "value": 0.9830606251311097,
          "variable": "f1_score"
         },
         {
          "issue_d": "2012-11-01T00:00:00",
          "value": 0.9829972513439226,
          "variable": "f1_score"
         },
         {
          "issue_d": "2012-12-01T00:00:00",
          "value": 0.9821130885334535,
          "variable": "f1_score"
         },
         {
          "issue_d": "2013-01-01T00:00:00",
          "value": 0.9843921834024194,
          "variable": "f1_score"
         },
         {
          "issue_d": "2013-02-01T00:00:00",
          "value": 0.9834429309534992,
          "variable": "f1_score"
         },
         {
          "issue_d": "2013-03-01T00:00:00",
          "value": 0.9824959718763733,
          "variable": "f1_score"
         },
         {
          "issue_d": "2013-04-01T00:00:00",
          "value": 0.982825428518249,
          "variable": "f1_score"
         },
         {
          "issue_d": "2013-05-01T00:00:00",
          "value": 0.9820194946531655,
          "variable": "f1_score"
         },
         {
          "issue_d": "2013-06-01T00:00:00",
          "value": 0.9818086713936998,
          "variable": "f1_score"
         },
         {
          "issue_d": "2013-07-01T00:00:00",
          "value": 0.9816927495772152,
          "variable": "f1_score"
         },
         {
          "issue_d": "2013-08-01T00:00:00",
          "value": 0.9830162366769599,
          "variable": "f1_score"
         },
         {
          "issue_d": "2013-09-01T00:00:00",
          "value": 0.9821559970566593,
          "variable": "f1_score"
         },
         {
          "issue_d": "2013-10-01T00:00:00",
          "value": 0.9826684771568177,
          "variable": "f1_score"
         },
         {
          "issue_d": "2013-11-01T00:00:00",
          "value": 0.9817211258492398,
          "variable": "f1_score"
         },
         {
          "issue_d": "2013-12-01T00:00:00",
          "value": 0.9824250121400021,
          "variable": "f1_score"
         },
         {
          "issue_d": "2014-01-01T00:00:00",
          "value": 0.9821236570889097,
          "variable": "f1_score"
         },
         {
          "issue_d": "2014-02-01T00:00:00",
          "value": 0.9814421795567839,
          "variable": "f1_score"
         },
         {
          "issue_d": "2014-03-01T00:00:00",
          "value": 0.9821284015193972,
          "variable": "f1_score"
         },
         {
          "issue_d": "2014-04-01T00:00:00",
          "value": 0.9804471710182008,
          "variable": "f1_score"
         },
         {
          "issue_d": "2014-05-01T00:00:00",
          "value": 0.9801620910712194,
          "variable": "f1_score"
         },
         {
          "issue_d": "2014-06-01T00:00:00",
          "value": 0.9787877417312252,
          "variable": "f1_score"
         },
         {
          "issue_d": "2014-07-01T00:00:00",
          "value": 0.9783027046302729,
          "variable": "f1_score"
         },
         {
          "issue_d": "2014-08-01T00:00:00",
          "value": 0.9764231204793908,
          "variable": "f1_score"
         },
         {
          "issue_d": "2014-09-01T00:00:00",
          "value": 0.9753527241154765,
          "variable": "f1_score"
         },
         {
          "issue_d": "2014-10-01T00:00:00",
          "value": 0.9754720085776313,
          "variable": "f1_score"
         },
         {
          "issue_d": "2014-11-01T00:00:00",
          "value": 0.9736751935935466,
          "variable": "f1_score"
         },
         {
          "issue_d": "2014-12-01T00:00:00",
          "value": 0.9725345057880678,
          "variable": "f1_score"
         },
         {
          "issue_d": "2015-01-01T00:00:00",
          "value": 0.9742576601100708,
          "variable": "f1_score"
         },
         {
          "issue_d": "2015-02-01T00:00:00",
          "value": 0.9706271230395762,
          "variable": "f1_score"
         },
         {
          "issue_d": "2015-03-01T00:00:00",
          "value": 0.9710032815718974,
          "variable": "f1_score"
         },
         {
          "issue_d": "2015-04-01T00:00:00",
          "value": 0.9707070074660739,
          "variable": "f1_score"
         },
         {
          "issue_d": "2015-05-01T00:00:00",
          "value": 0.9690211751197861,
          "variable": "f1_score"
         },
         {
          "issue_d": "2015-06-01T00:00:00",
          "value": 0.968081451200101,
          "variable": "f1_score"
         },
         {
          "issue_d": "2015-07-01T00:00:00",
          "value": 0.9680048029897261,
          "variable": "f1_score"
         },
         {
          "issue_d": "2015-08-01T00:00:00",
          "value": 0.9661594855508682,
          "variable": "f1_score"
         },
         {
          "issue_d": "2015-09-01T00:00:00",
          "value": 0.9661192171944747,
          "variable": "f1_score"
         },
         {
          "issue_d": "2015-10-01T00:00:00",
          "value": 0.9649170964181214,
          "variable": "f1_score"
         },
         {
          "issue_d": "2015-11-01T00:00:00",
          "value": 0.9652462596438597,
          "variable": "f1_score"
         },
         {
          "issue_d": "2015-12-01T00:00:00",
          "value": 0.9642001372248905,
          "variable": "f1_score"
         },
         {
          "issue_d": "2016-01-01T00:00:00",
          "value": 0.9631343294927899,
          "variable": "f1_score"
         },
         {
          "issue_d": "2016-02-01T00:00:00",
          "value": 0.9615301657348986,
          "variable": "f1_score"
         },
         {
          "issue_d": "2016-03-01T00:00:00",
          "value": 0.9597548597700485,
          "variable": "f1_score"
         },
         {
          "issue_d": "2016-04-01T00:00:00",
          "value": 0.9582545070109059,
          "variable": "f1_score"
         },
         {
          "issue_d": "2016-05-01T00:00:00",
          "value": 0.9567744047727315,
          "variable": "f1_score"
         },
         {
          "issue_d": "2016-06-01T00:00:00",
          "value": 0.9566947884826518,
          "variable": "f1_score"
         },
         {
          "issue_d": "2016-07-01T00:00:00",
          "value": 0.9553367695858708,
          "variable": "f1_score"
         },
         {
          "issue_d": "2016-08-01T00:00:00",
          "value": 0.9530539412823859,
          "variable": "f1_score"
         },
         {
          "issue_d": "2016-09-01T00:00:00",
          "value": 0.9528157973690771,
          "variable": "f1_score"
         },
         {
          "issue_d": "2016-10-01T00:00:00",
          "value": 0.9523463639342687,
          "variable": "f1_score"
         },
         {
          "issue_d": "2016-11-01T00:00:00",
          "value": 0.9516214386806966,
          "variable": "f1_score"
         },
         {
          "issue_d": "2016-12-01T00:00:00",
          "value": 0.9503774900700402,
          "variable": "f1_score"
         },
         {
          "issue_d": "2017-01-01T00:00:00",
          "value": 0.9494474835341126,
          "variable": "f1_score"
         },
         {
          "issue_d": "2017-02-01T00:00:00",
          "value": 0.9487826807329436,
          "variable": "f1_score"
         },
         {
          "issue_d": "2017-03-01T00:00:00",
          "value": 0.9486726283865593,
          "variable": "f1_score"
         },
         {
          "issue_d": "2017-04-01T00:00:00",
          "value": 0.9482727464964725,
          "variable": "f1_score"
         },
         {
          "issue_d": "2017-05-01T00:00:00",
          "value": 0.9482884499844093,
          "variable": "f1_score"
         },
         {
          "issue_d": "2017-06-01T00:00:00",
          "value": 0.9479578974261673,
          "variable": "f1_score"
         },
         {
          "issue_d": "2017-07-01T00:00:00",
          "value": 0.946259365564543,
          "variable": "f1_score"
         },
         {
          "issue_d": "2017-08-01T00:00:00",
          "value": 0.9455572173893799,
          "variable": "f1_score"
         },
         {
          "issue_d": "2017-09-01T00:00:00",
          "value": 0.9446512120559113,
          "variable": "f1_score"
         },
         {
          "issue_d": "2017-10-01T00:00:00",
          "value": 0.945183419988446,
          "variable": "f1_score"
         },
         {
          "issue_d": "2017-11-01T00:00:00",
          "value": 0.944682145029156,
          "variable": "f1_score"
         },
         {
          "issue_d": "2017-12-01T00:00:00",
          "value": 0.9444364665273192,
          "variable": "f1_score"
         },
         {
          "issue_d": "2018-01-01T00:00:00",
          "value": 0.9427911477795279,
          "variable": "f1_score"
         },
         {
          "issue_d": "2018-02-01T00:00:00",
          "value": 0.9436811499601683,
          "variable": "f1_score"
         },
         {
          "issue_d": "2018-03-01T00:00:00",
          "value": 0.9434645906122892,
          "variable": "f1_score"
         },
         {
          "issue_d": "2018-04-01T00:00:00",
          "value": 0.9429974615525528,
          "variable": "f1_score"
         },
         {
          "issue_d": "2018-05-01T00:00:00",
          "value": 0.9429969938230427,
          "variable": "f1_score"
         },
         {
          "issue_d": "2018-06-01T00:00:00",
          "value": 0.9421583669628601,
          "variable": "f1_score"
         },
         {
          "issue_d": "2018-07-01T00:00:00",
          "value": 0.9430436041701141,
          "variable": "f1_score"
         },
         {
          "issue_d": "2018-08-01T00:00:00",
          "value": 0.9425480574639988,
          "variable": "f1_score"
         },
         {
          "issue_d": "2018-09-01T00:00:00",
          "value": 0.9429557513006748,
          "variable": "f1_score"
         }
        ]
       },
       "vconcat": [
        {
         "data": {
          "name": "data-e85ec127eb05eacdc0cea8a5cf81f8fd"
         },
         "encoding": {
          "color": {
           "field": "variable",
           "type": "nominal"
          },
          "x": {
           "field": "issue_d",
           "type": "temporal"
          },
          "y": {
           "field": "value",
           "scale": {
            "domain": [
             0.9,
             1
            ]
           },
           "type": "quantitative"
          }
         },
         "height": 400,
         "mark": "line",
         "width": 600
        },
        {
         "data": {
          "name": "data-04c701cacd445fc96e3856831eaa7d0a"
         },
         "encoding": {
          "x": {
           "field": "issue_d",
           "type": "temporal"
          },
          "y": {
           "field": "loan_ID",
           "type": "quantitative"
          }
         },
         "height": 75,
         "mark": "bar",
         "width": 600
        }
       ]
      },
      "image/png": "[encoded data removed]",
      "text/plain": [
       "<VegaLite 2 object>\n",
       "\n",
       "If you see this message, it means the renderer has not been properly enabled\n",
       "for the frontend that you are using. For more information, see\n",
       "https://altair-viz.github.io/user_guide/troubleshooting.html\n"
      ]
     },
     "execution_count": 30,
     "metadata": {},
     "output_type": "execute_result"
    }
   ],
   "source": [
    "chart_1 = alt.Chart(df).mark_line().encode(\n",
    "    x='issue_d',\n",
    "    y=alt.Y(field='value',type='quantitative',scale=alt.Scale(domain=[.9, 1])),\n",
    "    color = 'variable'\n",
    ").properties(width=600, height=400)\n",
    "\n",
    "chart_2 = alt.Chart(model_performance).mark_bar().encode(\n",
    "    x='issue_d',\n",
    "    y=alt.Y(field='loan_ID',type='quantitative')\n",
    ").properties(width=600, height=75)\n",
    "\n",
    "chart_1 & chart_2"
   ]
  },
  {
   "cell_type": "code",
   "execution_count": 52,
   "metadata": {},
   "outputs": [
    {
     "data": {
      "application/vnd.vegalite.v2+json": {
       "$schema": "https://vega.github.io/schema/vega-lite/v2.6.0.json",
       "config": {
        "view": {
         "height": 300,
         "width": 400
        }
       },
       "data": {
        "name": "data-19dedd5008d614c4d8bf94ac56893e26"
       },
       "datasets": {
        "data-19dedd5008d614c4d8bf94ac56893e26": [
         {
          "loan_ID": 1,
          "loan_status": "Defaulted",
          "proba": 0.04
         },
         {
          "loan_ID": 1,
          "loan_status": "Defaulted",
          "proba": 0.05333333333333334
         },
         {
          "loan_ID": 7,
          "loan_status": "Defaulted",
          "proba": 0.06666666666666667
         },
         {
          "loan_ID": 3,
          "loan_status": "Fully Paid",
          "proba": 0.06666666666666667
         },
         {
          "loan_ID": 10,
          "loan_status": "Defaulted",
          "proba": 0.08
         },
         {
          "loan_ID": 10,
          "loan_status": "Fully Paid",
          "proba": 0.08
         },
         {
          "loan_ID": 28,
          "loan_status": "Defaulted",
          "proba": 0.09333333333333334
         },
         {
          "loan_ID": 8,
          "loan_status": "Fully Paid",
          "proba": 0.09333333333333334
         },
         {
          "loan_ID": 34,
          "loan_status": "Defaulted",
          "proba": 0.10666666666666667
         },
         {
          "loan_ID": 16,
          "loan_status": "Fully Paid",
          "proba": 0.10666666666666667
         },
         {
          "loan_ID": 63,
          "loan_status": "Defaulted",
          "proba": 0.12
         },
         {
          "loan_ID": 26,
          "loan_status": "Fully Paid",
          "proba": 0.12
         },
         {
          "loan_ID": 77,
          "loan_status": "Defaulted",
          "proba": 0.13333333333333333
         },
         {
          "loan_ID": 47,
          "loan_status": "Fully Paid",
          "proba": 0.13333333333333333
         },
         {
          "loan_ID": 150,
          "loan_status": "Defaulted",
          "proba": 0.14666666666666667
         },
         {
          "loan_ID": 71,
          "loan_status": "Fully Paid",
          "proba": 0.14666666666666667
         },
         {
          "loan_ID": 186,
          "loan_status": "Defaulted",
          "proba": 0.16
         },
         {
          "loan_ID": 104,
          "loan_status": "Fully Paid",
          "proba": 0.16
         },
         {
          "loan_ID": 279,
          "loan_status": "Defaulted",
          "proba": 0.17333333333333334
         },
         {
          "loan_ID": 155,
          "loan_status": "Fully Paid",
          "proba": 0.17333333333333334
         },
         {
          "loan_ID": 380,
          "loan_status": "Defaulted",
          "proba": 0.18666666666666668
         },
         {
          "loan_ID": 230,
          "loan_status": "Fully Paid",
          "proba": 0.18666666666666668
         },
         {
          "loan_ID": 463,
          "loan_status": "Defaulted",
          "proba": 0.2
         },
         {
          "loan_ID": 274,
          "loan_status": "Fully Paid",
          "proba": 0.2
         },
         {
          "loan_ID": 583,
          "loan_status": "Defaulted",
          "proba": 0.21333333333333335
         },
         {
          "loan_ID": 350,
          "loan_status": "Fully Paid",
          "proba": 0.21333333333333335
         },
         {
          "loan_ID": 764,
          "loan_status": "Defaulted",
          "proba": 0.22666666666666666
         },
         {
          "loan_ID": 484,
          "loan_status": "Fully Paid",
          "proba": 0.22666666666666666
         },
         {
          "loan_ID": 834,
          "loan_status": "Defaulted",
          "proba": 0.24
         },
         {
          "loan_ID": 614,
          "loan_status": "Fully Paid",
          "proba": 0.24
         },
         {
          "loan_ID": 1033,
          "loan_status": "Defaulted",
          "proba": 0.25333333333333335
         },
         {
          "loan_ID": 739,
          "loan_status": "Fully Paid",
          "proba": 0.25333333333333335
         },
         {
          "loan_ID": 1314,
          "loan_status": "Defaulted",
          "proba": 0.26666666666666666
         },
         {
          "loan_ID": 989,
          "loan_status": "Fully Paid",
          "proba": 0.26666666666666666
         },
         {
          "loan_ID": 1619,
          "loan_status": "Defaulted",
          "proba": 0.28
         },
         {
          "loan_ID": 1211,
          "loan_status": "Fully Paid",
          "proba": 0.28
         },
         {
          "loan_ID": 1880,
          "loan_status": "Defaulted",
          "proba": 0.29333333333333333
         },
         {
          "loan_ID": 1406,
          "loan_status": "Fully Paid",
          "proba": 0.29333333333333333
         },
         {
          "loan_ID": 2090,
          "loan_status": "Defaulted",
          "proba": 0.30666666666666664
         },
         {
          "loan_ID": 1707,
          "loan_status": "Fully Paid",
          "proba": 0.30666666666666664
         },
         {
          "loan_ID": 2482,
          "loan_status": "Defaulted",
          "proba": 0.32
         },
         {
          "loan_ID": 2092,
          "loan_status": "Fully Paid",
          "proba": 0.32
         },
         {
          "loan_ID": 2795,
          "loan_status": "Defaulted",
          "proba": 0.3333333333333333
         },
         {
          "loan_ID": 2535,
          "loan_status": "Fully Paid",
          "proba": 0.3333333333333333
         },
         {
          "loan_ID": 3086,
          "loan_status": "Defaulted",
          "proba": 0.3466666666666667
         },
         {
          "loan_ID": 3023,
          "loan_status": "Fully Paid",
          "proba": 0.3466666666666667
         },
         {
          "loan_ID": 3499,
          "loan_status": "Defaulted",
          "proba": 0.36
         },
         {
          "loan_ID": 3362,
          "loan_status": "Fully Paid",
          "proba": 0.36
         },
         {
          "loan_ID": 3885,
          "loan_status": "Defaulted",
          "proba": 0.37333333333333335
         },
         {
          "loan_ID": 3862,
          "loan_status": "Fully Paid",
          "proba": 0.37333333333333335
         },
         {
          "loan_ID": 4243,
          "loan_status": "Defaulted",
          "proba": 0.38666666666666666
         },
         {
          "loan_ID": 4611,
          "loan_status": "Fully Paid",
          "proba": 0.38666666666666666
         },
         {
          "loan_ID": 4679,
          "loan_status": "Defaulted",
          "proba": 0.4
         },
         {
          "loan_ID": 4986,
          "loan_status": "Fully Paid",
          "proba": 0.4
         },
         {
          "loan_ID": 4975,
          "loan_status": "Defaulted",
          "proba": 0.41333333333333333
         },
         {
          "loan_ID": 5885,
          "loan_status": "Fully Paid",
          "proba": 0.41333333333333333
         },
         {
          "loan_ID": 5347,
          "loan_status": "Defaulted",
          "proba": 0.4266666666666667
         },
         {
          "loan_ID": 6433,
          "loan_status": "Fully Paid",
          "proba": 0.4266666666666667
         },
         {
          "loan_ID": 5738,
          "loan_status": "Defaulted",
          "proba": 0.44
         },
         {
          "loan_ID": 7257,
          "loan_status": "Fully Paid",
          "proba": 0.44
         },
         {
          "loan_ID": 6012,
          "loan_status": "Defaulted",
          "proba": 0.4533333333333333
         },
         {
          "loan_ID": 8086,
          "loan_status": "Fully Paid",
          "proba": 0.4533333333333333
         },
         {
          "loan_ID": 6394,
          "loan_status": "Defaulted",
          "proba": 0.4666666666666667
         },
         {
          "loan_ID": 8963,
          "loan_status": "Fully Paid",
          "proba": 0.4666666666666667
         },
         {
          "loan_ID": 6636,
          "loan_status": "Defaulted",
          "proba": 0.48
         },
         {
          "loan_ID": 9989,
          "loan_status": "Fully Paid",
          "proba": 0.48
         },
         {
          "loan_ID": 6919,
          "loan_status": "Defaulted",
          "proba": 0.49333333333333335
         },
         {
          "loan_ID": 10886,
          "loan_status": "Fully Paid",
          "proba": 0.49333333333333335
         },
         {
          "loan_ID": 7250,
          "loan_status": "Defaulted",
          "proba": 0.5066666666666667
         },
         {
          "loan_ID": 11985,
          "loan_status": "Fully Paid",
          "proba": 0.5066666666666667
         },
         {
          "loan_ID": 7580,
          "loan_status": "Defaulted",
          "proba": 0.52
         },
         {
          "loan_ID": 12795,
          "loan_status": "Fully Paid",
          "proba": 0.52
         },
         {
          "loan_ID": 1,
          "loan_status": "Fully Paid",
          "proba": 0.5232259164535379
         },
         {
          "loan_ID": 7631,
          "loan_status": "Defaulted",
          "proba": 0.5333333333333333
         },
         {
          "loan_ID": 14130,
          "loan_status": "Fully Paid",
          "proba": 0.5333333333333333
         },
         {
          "loan_ID": 1,
          "loan_status": "Fully Paid",
          "proba": 0.5365592497868712
         },
         {
          "loan_ID": 7888,
          "loan_status": "Defaulted",
          "proba": 0.5466666666666666
         },
         {
          "loan_ID": 15164,
          "loan_status": "Fully Paid",
          "proba": 0.5466666666666666
         },
         {
          "loan_ID": 1,
          "loan_status": "Fully Paid",
          "proba": 0.5484415859778076
         },
         {
          "loan_ID": 8194,
          "loan_status": "Defaulted",
          "proba": 0.56
         },
         {
          "loan_ID": 16374,
          "loan_status": "Fully Paid",
          "proba": 0.56
         },
         {
          "loan_ID": 8296,
          "loan_status": "Defaulted",
          "proba": 0.5733333333333334
         },
         {
          "loan_ID": 17519,
          "loan_status": "Fully Paid",
          "proba": 0.5733333333333334
         },
         {
          "loan_ID": 1,
          "loan_status": "Fully Paid",
          "proba": 0.5765592497868712
         },
         {
          "loan_ID": 1,
          "loan_status": "Fully Paid",
          "proba": 0.5786651128591446
         },
         {
          "loan_ID": 8597,
          "loan_status": "Defaulted",
          "proba": 0.5866666666666667
         },
         {
          "loan_ID": 19267,
          "loan_status": "Fully Paid",
          "proba": 0.5866666666666667
         },
         {
          "loan_ID": 8640,
          "loan_status": "Defaulted",
          "proba": 0.6
         },
         {
          "loan_ID": 20749,
          "loan_status": "Fully Paid",
          "proba": 0.6
         },
         {
          "loan_ID": 1,
          "loan_status": "Fully Paid",
          "proba": 0.603225916453538
         },
         {
          "loan_ID": 1,
          "loan_status": "Defaulted",
          "proba": 0.6053317795258113
         },
         {
          "loan_ID": 8774,
          "loan_status": "Defaulted",
          "proba": 0.6133333333333333
         },
         {
          "loan_ID": 22055,
          "loan_status": "Fully Paid",
          "proba": 0.6133333333333333
         },
         {
          "loan_ID": 1,
          "loan_status": "Fully Paid",
          "proba": 0.6165592497868713
         },
         {
          "loan_ID": 1,
          "loan_status": "Defaulted",
          "proba": 0.6186651128591446
         },
         {
          "loan_ID": 1,
          "loan_status": "Fully Paid",
          "proba": 0.6186651128591446
         },
         {
          "loan_ID": 8761,
          "loan_status": "Defaulted",
          "proba": 0.6266666666666667
         },
         {
          "loan_ID": 23356,
          "loan_status": "Fully Paid",
          "proba": 0.6266666666666667
         },
         {
          "loan_ID": 8555,
          "loan_status": "Defaulted",
          "proba": 0.64
         },
         {
          "loan_ID": 24844,
          "loan_status": "Fully Paid",
          "proba": 0.64
         },
         {
          "loan_ID": 1,
          "loan_status": "Fully Paid",
          "proba": 0.6453317795258112
         },
         {
          "loan_ID": 8522,
          "loan_status": "Defaulted",
          "proba": 0.6533333333333333
         },
         {
          "loan_ID": 26218,
          "loan_status": "Fully Paid",
          "proba": 0.6533333333333333
         },
         {
          "loan_ID": 1,
          "loan_status": "Fully Paid",
          "proba": 0.6586651128591446
         },
         {
          "loan_ID": 8443,
          "loan_status": "Defaulted",
          "proba": 0.6666666666666666
         },
         {
          "loan_ID": 27558,
          "loan_status": "Fully Paid",
          "proba": 0.6666666666666666
         },
         {
          "loan_ID": 1,
          "loan_status": "Defaulted",
          "proba": 0.6698925831202046
         },
         {
          "loan_ID": 1,
          "loan_status": "Fully Paid",
          "proba": 0.6698925831202046
         },
         {
          "loan_ID": 2,
          "loan_status": "Fully Paid",
          "proba": 0.671998446192478
         },
         {
          "loan_ID": 8333,
          "loan_status": "Defaulted",
          "proba": 0.68
         },
         {
          "loan_ID": 29010,
          "loan_status": "Fully Paid",
          "proba": 0.68
         },
         {
          "loan_ID": 1,
          "loan_status": "Defaulted",
          "proba": 0.681774919311141
         },
         {
          "loan_ID": 1,
          "loan_status": "Defaulted",
          "proba": 0.6853317795258113
         },
         {
          "loan_ID": 8074,
          "loan_status": "Defaulted",
          "proba": 0.6933333333333334
         },
         {
          "loan_ID": 30128,
          "loan_status": "Fully Paid",
          "proba": 0.6933333333333334
         },
         {
          "loan_ID": 7730,
          "loan_status": "Defaulted",
          "proba": 0.7066666666666667
         },
         {
          "loan_ID": 31194,
          "loan_status": "Fully Paid",
          "proba": 0.7066666666666667
         },
         {
          "loan_ID": 7483,
          "loan_status": "Defaulted",
          "proba": 0.72
         },
         {
          "loan_ID": 32059,
          "loan_status": "Fully Paid",
          "proba": 0.72
         },
         {
          "loan_ID": 1,
          "loan_status": "Fully Paid",
          "proba": 0.7217749193111409
         },
         {
          "loan_ID": 1,
          "loan_status": "Fully Paid",
          "proba": 0.7253317795258113
         },
         {
          "loan_ID": 7047,
          "loan_status": "Defaulted",
          "proba": 0.7333333333333333
         },
         {
          "loan_ID": 33194,
          "loan_status": "Fully Paid",
          "proba": 0.7333333333333333
         },
         {
          "loan_ID": 1,
          "loan_status": "Fully Paid",
          "proba": 0.7366664038062193
         },
         {
          "loan_ID": 6929,
          "loan_status": "Defaulted",
          "proba": 0.7466666666666667
         },
         {
          "loan_ID": 33664,
          "loan_status": "Fully Paid",
          "proba": 0.7466666666666667
         },
         {
          "loan_ID": 1,
          "loan_status": "Fully Paid",
          "proba": 0.7519984461924779
         },
         {
          "loan_ID": 6308,
          "loan_status": "Defaulted",
          "proba": 0.76
         },
         {
          "loan_ID": 34157,
          "loan_status": "Fully Paid",
          "proba": 0.76
         },
         {
          "loan_ID": 1,
          "loan_status": "Fully Paid",
          "proba": 0.7653317795258112
         },
         {
          "loan_ID": 5947,
          "loan_status": "Defaulted",
          "proba": 0.7733333333333333
         },
         {
          "loan_ID": 34158,
          "loan_status": "Fully Paid",
          "proba": 0.7733333333333333
         },
         {
          "loan_ID": 1,
          "loan_status": "Fully Paid",
          "proba": 0.7766664038062193
         },
         {
          "loan_ID": 2,
          "loan_status": "Fully Paid",
          "proba": 0.7786651128591446
         },
         {
          "loan_ID": 5438,
          "loan_status": "Defaulted",
          "proba": 0.7866666666666666
         },
         {
          "loan_ID": 34710,
          "loan_status": "Fully Paid",
          "proba": 0.7866666666666666
         },
         {
          "loan_ID": 1,
          "loan_status": "Fully Paid",
          "proba": 0.791998446192478
         },
         {
          "loan_ID": 4968,
          "loan_status": "Defaulted",
          "proba": 0.8
         },
         {
          "loan_ID": 33838,
          "loan_status": "Fully Paid",
          "proba": 0.8
         },
         {
          "loan_ID": 1,
          "loan_status": "Fully Paid",
          "proba": 0.8053317795258113
         },
         {
          "loan_ID": 4507,
          "loan_status": "Defaulted",
          "proba": 0.8133333333333334
         },
         {
          "loan_ID": 33419,
          "loan_status": "Fully Paid",
          "proba": 0.8133333333333334
         },
         {
          "loan_ID": 1,
          "loan_status": "Fully Paid",
          "proba": 0.8165592497868712
         },
         {
          "loan_ID": 2,
          "loan_status": "Fully Paid",
          "proba": 0.8186651128591446
         },
         {
          "loan_ID": 4001,
          "loan_status": "Defaulted",
          "proba": 0.8266666666666667
         },
         {
          "loan_ID": 32308,
          "loan_status": "Fully Paid",
          "proba": 0.8266666666666667
         },
         {
          "loan_ID": 1,
          "loan_status": "Fully Paid",
          "proba": 0.8299997371395527
         },
         {
          "loan_ID": 3475,
          "loan_status": "Defaulted",
          "proba": 0.84
         },
         {
          "loan_ID": 31245,
          "loan_status": "Fully Paid",
          "proba": 0.84
         },
         {
          "loan_ID": 1,
          "loan_status": "Fully Paid",
          "proba": 0.8453317795258113
         },
         {
          "loan_ID": 3024,
          "loan_status": "Defaulted",
          "proba": 0.8533333333333334
         },
         {
          "loan_ID": 29989,
          "loan_status": "Fully Paid",
          "proba": 0.8533333333333334
         },
         {
          "loan_ID": 2498,
          "loan_status": "Defaulted",
          "proba": 0.8666666666666667
         },
         {
          "loan_ID": 28051,
          "loan_status": "Fully Paid",
          "proba": 0.8666666666666667
         },
         {
          "loan_ID": 2076,
          "loan_status": "Defaulted",
          "proba": 0.88
         },
         {
          "loan_ID": 25946,
          "loan_status": "Fully Paid",
          "proba": 0.88
         },
         {
          "loan_ID": 1618,
          "loan_status": "Defaulted",
          "proba": 0.8933333333333333
         },
         {
          "loan_ID": 23719,
          "loan_status": "Fully Paid",
          "proba": 0.8933333333333333
         },
         {
          "loan_ID": 1425,
          "loan_status": "Defaulted",
          "proba": 0.9066666666666666
         },
         {
          "loan_ID": 21233,
          "loan_status": "Fully Paid",
          "proba": 0.9066666666666666
         },
         {
          "loan_ID": 1020,
          "loan_status": "Defaulted",
          "proba": 0.92
         },
         {
          "loan_ID": 19068,
          "loan_status": "Fully Paid",
          "proba": 0.92
         },
         {
          "loan_ID": 805,
          "loan_status": "Defaulted",
          "proba": 0.9333333333333333
         },
         {
          "loan_ID": 16461,
          "loan_status": "Fully Paid",
          "proba": 0.9333333333333333
         },
         {
          "loan_ID": 543,
          "loan_status": "Defaulted",
          "proba": 0.9466666666666667
         },
         {
          "loan_ID": 13871,
          "loan_status": "Fully Paid",
          "proba": 0.9466666666666667
         },
         {
          "loan_ID": 395,
          "loan_status": "Defaulted",
          "proba": 0.96
         },
         {
          "loan_ID": 11273,
          "loan_status": "Fully Paid",
          "proba": 0.96
         },
         {
          "loan_ID": 233,
          "loan_status": "Defaulted",
          "proba": 0.9733333333333334
         },
         {
          "loan_ID": 8193,
          "loan_status": "Fully Paid",
          "proba": 0.9733333333333334
         },
         {
          "loan_ID": 105,
          "loan_status": "Defaulted",
          "proba": 0.9866666666666667
         },
         {
          "loan_ID": 4914,
          "loan_status": "Fully Paid",
          "proba": 0.9866666666666667
         },
         {
          "loan_ID": 27,
          "loan_status": "Defaulted",
          "proba": 1
         },
         {
          "loan_ID": 2022,
          "loan_status": "Fully Paid",
          "proba": 1
         }
        ]
       },
       "encoding": {
        "color": {
         "field": "loan_status",
         "type": "nominal"
        },
        "column": {
         "field": "loan_status",
         "type": "nominal"
        },
        "x": {
         "axis": {
          "title": "Predicted Non-Default Probability"
         },
         "field": "proba",
         "type": "quantitative"
        },
        "y": {
         "axis": {
          "title": "Number of loans"
         },
         "field": "loan_ID",
         "type": "quantitative"
        }
       },
       "height": 600,
       "mark": "bar",
       "title": "Predicted Non-Default Probability vs True Loan Status",
       "width": 400
      },
      "image/png": "[encoded data removed]",
      "text/plain": [
       "<VegaLite 2 object>\n",
       "\n",
       "If you see this message, it means the renderer has not been properly enabled\n",
       "for the frontend that you are using. For more information, see\n",
       "https://altair-viz.github.io/user_guide/troubleshooting.html\n"
      ]
     },
     "execution_count": 52,
     "metadata": {},
     "output_type": "execute_result"
    }
   ],
   "source": [
    "import altair as alt\n",
    "\n",
    "model_predictions =  dataset_monthly_predictions\n",
    "\n",
    "map_default_status = {0:'Defaulted', 1:'Fully Paid'}\n",
    "\n",
    "model_predictions['loan_status'] = model_predictions['loan_status'].map(map_default_status)\n",
    "\n",
    "model_predictions = model_predictions.groupby(['proba','loan_status'])['loan_ID'].count().reset_index()\n",
    "\n",
    "alt.Chart(model_predictions).mark_bar().encode(\n",
    "    x=alt.X(field='proba',type='quantitative',axis=alt.Axis(title='Predicted Non-Default Probability')),\n",
    "    y=alt.Y(field='loan_ID',type='quantitative',axis=alt.Axis(title='Number of loans')),\n",
    "    column='loan_status:N',\n",
    "    color='loan_status:N'\n",
    ").properties(width=400, height=600,title='Predicted Non-Default Probability vs True Loan Status')"
   ]
  },
  {
   "cell_type": "code",
   "execution_count": null,
   "metadata": {},
   "outputs": [],
   "source": []
  }
 ],
 "metadata": {
  "kernelspec": {
   "display_name": "Python 3",
   "language": "python",
   "name": "python3"
  },
  "language_info": {
   "codemirror_mode": {
    "name": "ipython",
    "version": 3
   },
   "file_extension": ".py",
   "mimetype": "text/x-python",
   "name": "python",
   "nbconvert_exporter": "python",
   "pygments_lexer": "ipython3",
   "version": "3.7.2"
  }
 },
 "nbformat": 4,
 "nbformat_minor": 2
}
